{
  "nbformat": 4,
  "nbformat_minor": 0,
  "metadata": {
    "colab": {
      "provenance": []
    },
    "kernelspec": {
      "name": "python3",
      "display_name": "Python 3"
    },
    "language_info": {
      "name": "python"
    }
  },
  "cells": [
    {
      "cell_type": "markdown",
      "source": [
        "#Instaling essential libraries"
      ],
      "metadata": {
        "id": "NMNoTLXcs0qB"
      }
    },
    {
      "cell_type": "code",
      "execution_count": 1,
      "metadata": {
        "colab": {
          "base_uri": "https://localhost:8080/"
        },
        "id": "q3rvo1mSu3wh",
        "outputId": "229c1b34-e14b-4215-8805-d53147be4d45"
      },
      "outputs": [
        {
          "output_type": "stream",
          "name": "stdout",
          "text": [
            "Requirement already satisfied: hazm in /usr/local/lib/python3.10/dist-packages (0.9.4)\n",
            "Requirement already satisfied: fasttext-wheel<0.10.0,>=0.9.2 in /usr/local/lib/python3.10/dist-packages (from hazm) (0.9.2)\n",
            "Requirement already satisfied: flashtext<3.0,>=2.7 in /usr/local/lib/python3.10/dist-packages (from hazm) (2.7)\n",
            "Requirement already satisfied: gensim<5.0.0,>=4.3.1 in /usr/local/lib/python3.10/dist-packages (from hazm) (4.3.2)\n",
            "Requirement already satisfied: nltk<4.0.0,>=3.8.1 in /usr/local/lib/python3.10/dist-packages (from hazm) (3.8.1)\n",
            "Requirement already satisfied: numpy==1.24.3 in /usr/local/lib/python3.10/dist-packages (from hazm) (1.24.3)\n",
            "Requirement already satisfied: python-crfsuite<0.10.0,>=0.9.9 in /usr/local/lib/python3.10/dist-packages (from hazm) (0.9.9)\n",
            "Requirement already satisfied: scikit-learn<2.0.0,>=1.2.2 in /usr/local/lib/python3.10/dist-packages (from hazm) (1.2.2)\n",
            "Requirement already satisfied: pybind11>=2.2 in /usr/local/lib/python3.10/dist-packages (from fasttext-wheel<0.10.0,>=0.9.2->hazm) (2.11.1)\n",
            "Requirement already satisfied: setuptools>=0.7.0 in /usr/local/lib/python3.10/dist-packages (from fasttext-wheel<0.10.0,>=0.9.2->hazm) (67.7.2)\n",
            "Requirement already satisfied: scipy>=1.7.0 in /usr/local/lib/python3.10/dist-packages (from gensim<5.0.0,>=4.3.1->hazm) (1.11.3)\n",
            "Requirement already satisfied: smart-open>=1.8.1 in /usr/local/lib/python3.10/dist-packages (from gensim<5.0.0,>=4.3.1->hazm) (6.4.0)\n",
            "Requirement already satisfied: click in /usr/local/lib/python3.10/dist-packages (from nltk<4.0.0,>=3.8.1->hazm) (8.1.7)\n",
            "Requirement already satisfied: joblib in /usr/local/lib/python3.10/dist-packages (from nltk<4.0.0,>=3.8.1->hazm) (1.3.2)\n",
            "Requirement already satisfied: regex>=2021.8.3 in /usr/local/lib/python3.10/dist-packages (from nltk<4.0.0,>=3.8.1->hazm) (2023.6.3)\n",
            "Requirement already satisfied: tqdm in /usr/local/lib/python3.10/dist-packages (from nltk<4.0.0,>=3.8.1->hazm) (4.66.1)\n",
            "Requirement already satisfied: threadpoolctl>=2.0.0 in /usr/local/lib/python3.10/dist-packages (from scikit-learn<2.0.0,>=1.2.2->hazm) (3.2.0)\n"
          ]
        }
      ],
      "source": [
        "!pip install hazm"
      ]
    },
    {
      "cell_type": "markdown",
      "source": [
        "#Importing libraries"
      ],
      "metadata": {
        "id": "DS_yedYOs5Pt"
      }
    },
    {
      "cell_type": "code",
      "source": [
        "import hazm\n",
        "import nltk\n",
        "import pandas as pd"
      ],
      "metadata": {
        "id": "6eZ-kXKo2t4s"
      },
      "execution_count": 2,
      "outputs": []
    },
    {
      "cell_type": "markdown",
      "source": [
        "#English Dataset"
      ],
      "metadata": {
        "id": "DntiIy7htD9R"
      }
    },
    {
      "cell_type": "code",
      "source": [
        "!wget http://www.cs.cmu.edu/~ark/personas/data/MovieSummaries.tar.gz\n",
        "!tar -xf MovieSummaries.tar.gz"
      ],
      "metadata": {
        "colab": {
          "base_uri": "https://localhost:8080/"
        },
        "id": "QrPcEl6v-gD7",
        "outputId": "c700d7f9-1d79-4231-a796-e5f913475940"
      },
      "execution_count": 3,
      "outputs": [
        {
          "output_type": "stream",
          "name": "stdout",
          "text": [
            "--2023-11-10 17:33:08--  http://www.cs.cmu.edu/~ark/personas/data/MovieSummaries.tar.gz\n",
            "Resolving www.cs.cmu.edu (www.cs.cmu.edu)... 128.2.42.95\n",
            "Connecting to www.cs.cmu.edu (www.cs.cmu.edu)|128.2.42.95|:80... connected.\n",
            "HTTP request sent, awaiting response... 200 OK\n",
            "Length: 48002242 (46M) [application/x-gzip]\n",
            "Saving to: ‘MovieSummaries.tar.gz.6’\n",
            "\n",
            "MovieSummaries.tar. 100%[===================>]  45.78M  1.60MB/s    in 29s     \n",
            "\n",
            "2023-11-10 17:33:37 (1.60 MB/s) - ‘MovieSummaries.tar.gz.6’ saved [48002242/48002242]\n",
            "\n"
          ]
        }
      ]
    },
    {
      "cell_type": "code",
      "source": [
        "english_df = pd.read_csv(\"/content/MovieSummaries/plot_summaries.txt\", delimiter = \"\\t\",names=[\"id\",\"text\"])\n",
        "english_df.info()"
      ],
      "metadata": {
        "colab": {
          "base_uri": "https://localhost:8080/"
        },
        "id": "dYUL7IBQ-iS3",
        "outputId": "eac924cf-4838-429c-815d-392f9ac1af10"
      },
      "execution_count": 4,
      "outputs": [
        {
          "output_type": "stream",
          "name": "stdout",
          "text": [
            "<class 'pandas.core.frame.DataFrame'>\n",
            "RangeIndex: 42303 entries, 0 to 42302\n",
            "Data columns (total 2 columns):\n",
            " #   Column  Non-Null Count  Dtype \n",
            "---  ------  --------------  ----- \n",
            " 0   id      42303 non-null  int64 \n",
            " 1   text    42303 non-null  object\n",
            "dtypes: int64(1), object(1)\n",
            "memory usage: 661.1+ KB\n"
          ]
        }
      ]
    },
    {
      "cell_type": "code",
      "source": [
        "english_df.head()"
      ],
      "metadata": {
        "colab": {
          "base_uri": "https://localhost:8080/",
          "height": 206
        },
        "id": "f_wcIhEJscFR",
        "outputId": "01c8e02a-6bb0-42ea-ad7c-12234dfa2c01"
      },
      "execution_count": 5,
      "outputs": [
        {
          "output_type": "execute_result",
          "data": {
            "text/plain": [
              "         id                                               text\n",
              "0  23890098  Shlykov, a hard-working taxi driver and Lyosha...\n",
              "1  31186339  The nation of Panem consists of a wealthy Capi...\n",
              "2  20663735  Poovalli Induchoodan  is sentenced for six yea...\n",
              "3   2231378  The Lemon Drop Kid , a New York City swindler,...\n",
              "4    595909  Seventh-day Adventist Church pastor Michael Ch..."
            ],
            "text/html": [
              "\n",
              "  <div id=\"df-05319790-ef34-4bdd-9c28-4a0f888daf4b\" class=\"colab-df-container\">\n",
              "    <div>\n",
              "<style scoped>\n",
              "    .dataframe tbody tr th:only-of-type {\n",
              "        vertical-align: middle;\n",
              "    }\n",
              "\n",
              "    .dataframe tbody tr th {\n",
              "        vertical-align: top;\n",
              "    }\n",
              "\n",
              "    .dataframe thead th {\n",
              "        text-align: right;\n",
              "    }\n",
              "</style>\n",
              "<table border=\"1\" class=\"dataframe\">\n",
              "  <thead>\n",
              "    <tr style=\"text-align: right;\">\n",
              "      <th></th>\n",
              "      <th>id</th>\n",
              "      <th>text</th>\n",
              "    </tr>\n",
              "  </thead>\n",
              "  <tbody>\n",
              "    <tr>\n",
              "      <th>0</th>\n",
              "      <td>23890098</td>\n",
              "      <td>Shlykov, a hard-working taxi driver and Lyosha...</td>\n",
              "    </tr>\n",
              "    <tr>\n",
              "      <th>1</th>\n",
              "      <td>31186339</td>\n",
              "      <td>The nation of Panem consists of a wealthy Capi...</td>\n",
              "    </tr>\n",
              "    <tr>\n",
              "      <th>2</th>\n",
              "      <td>20663735</td>\n",
              "      <td>Poovalli Induchoodan  is sentenced for six yea...</td>\n",
              "    </tr>\n",
              "    <tr>\n",
              "      <th>3</th>\n",
              "      <td>2231378</td>\n",
              "      <td>The Lemon Drop Kid , a New York City swindler,...</td>\n",
              "    </tr>\n",
              "    <tr>\n",
              "      <th>4</th>\n",
              "      <td>595909</td>\n",
              "      <td>Seventh-day Adventist Church pastor Michael Ch...</td>\n",
              "    </tr>\n",
              "  </tbody>\n",
              "</table>\n",
              "</div>\n",
              "    <div class=\"colab-df-buttons\">\n",
              "\n",
              "  <div class=\"colab-df-container\">\n",
              "    <button class=\"colab-df-convert\" onclick=\"convertToInteractive('df-05319790-ef34-4bdd-9c28-4a0f888daf4b')\"\n",
              "            title=\"Convert this dataframe to an interactive table.\"\n",
              "            style=\"display:none;\">\n",
              "\n",
              "  <svg xmlns=\"http://www.w3.org/2000/svg\" height=\"24px\" viewBox=\"0 -960 960 960\">\n",
              "    <path d=\"M120-120v-720h720v720H120Zm60-500h600v-160H180v160Zm220 220h160v-160H400v160Zm0 220h160v-160H400v160ZM180-400h160v-160H180v160Zm440 0h160v-160H620v160ZM180-180h160v-160H180v160Zm440 0h160v-160H620v160Z\"/>\n",
              "  </svg>\n",
              "    </button>\n",
              "\n",
              "  <style>\n",
              "    .colab-df-container {\n",
              "      display:flex;\n",
              "      gap: 12px;\n",
              "    }\n",
              "\n",
              "    .colab-df-convert {\n",
              "      background-color: #E8F0FE;\n",
              "      border: none;\n",
              "      border-radius: 50%;\n",
              "      cursor: pointer;\n",
              "      display: none;\n",
              "      fill: #1967D2;\n",
              "      height: 32px;\n",
              "      padding: 0 0 0 0;\n",
              "      width: 32px;\n",
              "    }\n",
              "\n",
              "    .colab-df-convert:hover {\n",
              "      background-color: #E2EBFA;\n",
              "      box-shadow: 0px 1px 2px rgba(60, 64, 67, 0.3), 0px 1px 3px 1px rgba(60, 64, 67, 0.15);\n",
              "      fill: #174EA6;\n",
              "    }\n",
              "\n",
              "    .colab-df-buttons div {\n",
              "      margin-bottom: 4px;\n",
              "    }\n",
              "\n",
              "    [theme=dark] .colab-df-convert {\n",
              "      background-color: #3B4455;\n",
              "      fill: #D2E3FC;\n",
              "    }\n",
              "\n",
              "    [theme=dark] .colab-df-convert:hover {\n",
              "      background-color: #434B5C;\n",
              "      box-shadow: 0px 1px 3px 1px rgba(0, 0, 0, 0.15);\n",
              "      filter: drop-shadow(0px 1px 2px rgba(0, 0, 0, 0.3));\n",
              "      fill: #FFFFFF;\n",
              "    }\n",
              "  </style>\n",
              "\n",
              "    <script>\n",
              "      const buttonEl =\n",
              "        document.querySelector('#df-05319790-ef34-4bdd-9c28-4a0f888daf4b button.colab-df-convert');\n",
              "      buttonEl.style.display =\n",
              "        google.colab.kernel.accessAllowed ? 'block' : 'none';\n",
              "\n",
              "      async function convertToInteractive(key) {\n",
              "        const element = document.querySelector('#df-05319790-ef34-4bdd-9c28-4a0f888daf4b');\n",
              "        const dataTable =\n",
              "          await google.colab.kernel.invokeFunction('convertToInteractive',\n",
              "                                                    [key], {});\n",
              "        if (!dataTable) return;\n",
              "\n",
              "        const docLinkHtml = 'Like what you see? Visit the ' +\n",
              "          '<a target=\"_blank\" href=https://colab.research.google.com/notebooks/data_table.ipynb>data table notebook</a>'\n",
              "          + ' to learn more about interactive tables.';\n",
              "        element.innerHTML = '';\n",
              "        dataTable['output_type'] = 'display_data';\n",
              "        await google.colab.output.renderOutput(dataTable, element);\n",
              "        const docLink = document.createElement('div');\n",
              "        docLink.innerHTML = docLinkHtml;\n",
              "        element.appendChild(docLink);\n",
              "      }\n",
              "    </script>\n",
              "  </div>\n",
              "\n",
              "\n",
              "<div id=\"df-ff0d8235-c641-46ee-9ff7-2bfa286ba9f7\">\n",
              "  <button class=\"colab-df-quickchart\" onclick=\"quickchart('df-ff0d8235-c641-46ee-9ff7-2bfa286ba9f7')\"\n",
              "            title=\"Suggest charts\"\n",
              "            style=\"display:none;\">\n",
              "\n",
              "<svg xmlns=\"http://www.w3.org/2000/svg\" height=\"24px\"viewBox=\"0 0 24 24\"\n",
              "     width=\"24px\">\n",
              "    <g>\n",
              "        <path d=\"M19 3H5c-1.1 0-2 .9-2 2v14c0 1.1.9 2 2 2h14c1.1 0 2-.9 2-2V5c0-1.1-.9-2-2-2zM9 17H7v-7h2v7zm4 0h-2V7h2v10zm4 0h-2v-4h2v4z\"/>\n",
              "    </g>\n",
              "</svg>\n",
              "  </button>\n",
              "\n",
              "<style>\n",
              "  .colab-df-quickchart {\n",
              "      --bg-color: #E8F0FE;\n",
              "      --fill-color: #1967D2;\n",
              "      --hover-bg-color: #E2EBFA;\n",
              "      --hover-fill-color: #174EA6;\n",
              "      --disabled-fill-color: #AAA;\n",
              "      --disabled-bg-color: #DDD;\n",
              "  }\n",
              "\n",
              "  [theme=dark] .colab-df-quickchart {\n",
              "      --bg-color: #3B4455;\n",
              "      --fill-color: #D2E3FC;\n",
              "      --hover-bg-color: #434B5C;\n",
              "      --hover-fill-color: #FFFFFF;\n",
              "      --disabled-bg-color: #3B4455;\n",
              "      --disabled-fill-color: #666;\n",
              "  }\n",
              "\n",
              "  .colab-df-quickchart {\n",
              "    background-color: var(--bg-color);\n",
              "    border: none;\n",
              "    border-radius: 50%;\n",
              "    cursor: pointer;\n",
              "    display: none;\n",
              "    fill: var(--fill-color);\n",
              "    height: 32px;\n",
              "    padding: 0;\n",
              "    width: 32px;\n",
              "  }\n",
              "\n",
              "  .colab-df-quickchart:hover {\n",
              "    background-color: var(--hover-bg-color);\n",
              "    box-shadow: 0 1px 2px rgba(60, 64, 67, 0.3), 0 1px 3px 1px rgba(60, 64, 67, 0.15);\n",
              "    fill: var(--button-hover-fill-color);\n",
              "  }\n",
              "\n",
              "  .colab-df-quickchart-complete:disabled,\n",
              "  .colab-df-quickchart-complete:disabled:hover {\n",
              "    background-color: var(--disabled-bg-color);\n",
              "    fill: var(--disabled-fill-color);\n",
              "    box-shadow: none;\n",
              "  }\n",
              "\n",
              "  .colab-df-spinner {\n",
              "    border: 2px solid var(--fill-color);\n",
              "    border-color: transparent;\n",
              "    border-bottom-color: var(--fill-color);\n",
              "    animation:\n",
              "      spin 1s steps(1) infinite;\n",
              "  }\n",
              "\n",
              "  @keyframes spin {\n",
              "    0% {\n",
              "      border-color: transparent;\n",
              "      border-bottom-color: var(--fill-color);\n",
              "      border-left-color: var(--fill-color);\n",
              "    }\n",
              "    20% {\n",
              "      border-color: transparent;\n",
              "      border-left-color: var(--fill-color);\n",
              "      border-top-color: var(--fill-color);\n",
              "    }\n",
              "    30% {\n",
              "      border-color: transparent;\n",
              "      border-left-color: var(--fill-color);\n",
              "      border-top-color: var(--fill-color);\n",
              "      border-right-color: var(--fill-color);\n",
              "    }\n",
              "    40% {\n",
              "      border-color: transparent;\n",
              "      border-right-color: var(--fill-color);\n",
              "      border-top-color: var(--fill-color);\n",
              "    }\n",
              "    60% {\n",
              "      border-color: transparent;\n",
              "      border-right-color: var(--fill-color);\n",
              "    }\n",
              "    80% {\n",
              "      border-color: transparent;\n",
              "      border-right-color: var(--fill-color);\n",
              "      border-bottom-color: var(--fill-color);\n",
              "    }\n",
              "    90% {\n",
              "      border-color: transparent;\n",
              "      border-bottom-color: var(--fill-color);\n",
              "    }\n",
              "  }\n",
              "</style>\n",
              "\n",
              "  <script>\n",
              "    async function quickchart(key) {\n",
              "      const quickchartButtonEl =\n",
              "        document.querySelector('#' + key + ' button');\n",
              "      quickchartButtonEl.disabled = true;  // To prevent multiple clicks.\n",
              "      quickchartButtonEl.classList.add('colab-df-spinner');\n",
              "      try {\n",
              "        const charts = await google.colab.kernel.invokeFunction(\n",
              "            'suggestCharts', [key], {});\n",
              "      } catch (error) {\n",
              "        console.error('Error during call to suggestCharts:', error);\n",
              "      }\n",
              "      quickchartButtonEl.classList.remove('colab-df-spinner');\n",
              "      quickchartButtonEl.classList.add('colab-df-quickchart-complete');\n",
              "    }\n",
              "    (() => {\n",
              "      let quickchartButtonEl =\n",
              "        document.querySelector('#df-ff0d8235-c641-46ee-9ff7-2bfa286ba9f7 button');\n",
              "      quickchartButtonEl.style.display =\n",
              "        google.colab.kernel.accessAllowed ? 'block' : 'none';\n",
              "    })();\n",
              "  </script>\n",
              "</div>\n",
              "    </div>\n",
              "  </div>\n"
            ]
          },
          "metadata": {},
          "execution_count": 5
        }
      ]
    },
    {
      "cell_type": "code",
      "source": [
        "english_df.iloc[333:343]"
      ],
      "metadata": {
        "colab": {
          "base_uri": "https://localhost:8080/",
          "height": 363
        },
        "id": "vR6UZxvGOxvl",
        "outputId": "c08584ea-26d1-4b30-b737-f6c103d03043"
      },
      "execution_count": 6,
      "outputs": [
        {
          "output_type": "execute_result",
          "data": {
            "text/plain": [
              "           id                                               text\n",
              "333   3182458  The stories follow a black formal tailcoat as ...\n",
              "334  14901197  Crossing the plains, a wagon train comes acros...\n",
              "335    474750  A new heroine has arrived in Gotham whose iden...\n",
              "336  32777283  Justin Bayard, a Northern Territory policeman,...\n",
              "337   6002416  The central character is the Post Master who i...\n",
              "338   3322205  Pooja Dharamchand  is the daughter of a rich M...\n",
              "339   3006994  The film features two anonymous Scottish-accen...\n",
              "340   9537791  Sam, a college student in a small Northwestern...\n",
              "341  23910715  She's in for a wild ride, when Jean Madison , ...\n",
              "342     45772   On November 25, 1975, Rocky Balboa  is introd..."
            ],
            "text/html": [
              "\n",
              "  <div id=\"df-afe23882-b07f-481a-9a29-d0cc34921de4\" class=\"colab-df-container\">\n",
              "    <div>\n",
              "<style scoped>\n",
              "    .dataframe tbody tr th:only-of-type {\n",
              "        vertical-align: middle;\n",
              "    }\n",
              "\n",
              "    .dataframe tbody tr th {\n",
              "        vertical-align: top;\n",
              "    }\n",
              "\n",
              "    .dataframe thead th {\n",
              "        text-align: right;\n",
              "    }\n",
              "</style>\n",
              "<table border=\"1\" class=\"dataframe\">\n",
              "  <thead>\n",
              "    <tr style=\"text-align: right;\">\n",
              "      <th></th>\n",
              "      <th>id</th>\n",
              "      <th>text</th>\n",
              "    </tr>\n",
              "  </thead>\n",
              "  <tbody>\n",
              "    <tr>\n",
              "      <th>333</th>\n",
              "      <td>3182458</td>\n",
              "      <td>The stories follow a black formal tailcoat as ...</td>\n",
              "    </tr>\n",
              "    <tr>\n",
              "      <th>334</th>\n",
              "      <td>14901197</td>\n",
              "      <td>Crossing the plains, a wagon train comes acros...</td>\n",
              "    </tr>\n",
              "    <tr>\n",
              "      <th>335</th>\n",
              "      <td>474750</td>\n",
              "      <td>A new heroine has arrived in Gotham whose iden...</td>\n",
              "    </tr>\n",
              "    <tr>\n",
              "      <th>336</th>\n",
              "      <td>32777283</td>\n",
              "      <td>Justin Bayard, a Northern Territory policeman,...</td>\n",
              "    </tr>\n",
              "    <tr>\n",
              "      <th>337</th>\n",
              "      <td>6002416</td>\n",
              "      <td>The central character is the Post Master who i...</td>\n",
              "    </tr>\n",
              "    <tr>\n",
              "      <th>338</th>\n",
              "      <td>3322205</td>\n",
              "      <td>Pooja Dharamchand  is the daughter of a rich M...</td>\n",
              "    </tr>\n",
              "    <tr>\n",
              "      <th>339</th>\n",
              "      <td>3006994</td>\n",
              "      <td>The film features two anonymous Scottish-accen...</td>\n",
              "    </tr>\n",
              "    <tr>\n",
              "      <th>340</th>\n",
              "      <td>9537791</td>\n",
              "      <td>Sam, a college student in a small Northwestern...</td>\n",
              "    </tr>\n",
              "    <tr>\n",
              "      <th>341</th>\n",
              "      <td>23910715</td>\n",
              "      <td>She's in for a wild ride, when Jean Madison , ...</td>\n",
              "    </tr>\n",
              "    <tr>\n",
              "      <th>342</th>\n",
              "      <td>45772</td>\n",
              "      <td>On November 25, 1975, Rocky Balboa  is introd...</td>\n",
              "    </tr>\n",
              "  </tbody>\n",
              "</table>\n",
              "</div>\n",
              "    <div class=\"colab-df-buttons\">\n",
              "\n",
              "  <div class=\"colab-df-container\">\n",
              "    <button class=\"colab-df-convert\" onclick=\"convertToInteractive('df-afe23882-b07f-481a-9a29-d0cc34921de4')\"\n",
              "            title=\"Convert this dataframe to an interactive table.\"\n",
              "            style=\"display:none;\">\n",
              "\n",
              "  <svg xmlns=\"http://www.w3.org/2000/svg\" height=\"24px\" viewBox=\"0 -960 960 960\">\n",
              "    <path d=\"M120-120v-720h720v720H120Zm60-500h600v-160H180v160Zm220 220h160v-160H400v160Zm0 220h160v-160H400v160ZM180-400h160v-160H180v160Zm440 0h160v-160H620v160ZM180-180h160v-160H180v160Zm440 0h160v-160H620v160Z\"/>\n",
              "  </svg>\n",
              "    </button>\n",
              "\n",
              "  <style>\n",
              "    .colab-df-container {\n",
              "      display:flex;\n",
              "      gap: 12px;\n",
              "    }\n",
              "\n",
              "    .colab-df-convert {\n",
              "      background-color: #E8F0FE;\n",
              "      border: none;\n",
              "      border-radius: 50%;\n",
              "      cursor: pointer;\n",
              "      display: none;\n",
              "      fill: #1967D2;\n",
              "      height: 32px;\n",
              "      padding: 0 0 0 0;\n",
              "      width: 32px;\n",
              "    }\n",
              "\n",
              "    .colab-df-convert:hover {\n",
              "      background-color: #E2EBFA;\n",
              "      box-shadow: 0px 1px 2px rgba(60, 64, 67, 0.3), 0px 1px 3px 1px rgba(60, 64, 67, 0.15);\n",
              "      fill: #174EA6;\n",
              "    }\n",
              "\n",
              "    .colab-df-buttons div {\n",
              "      margin-bottom: 4px;\n",
              "    }\n",
              "\n",
              "    [theme=dark] .colab-df-convert {\n",
              "      background-color: #3B4455;\n",
              "      fill: #D2E3FC;\n",
              "    }\n",
              "\n",
              "    [theme=dark] .colab-df-convert:hover {\n",
              "      background-color: #434B5C;\n",
              "      box-shadow: 0px 1px 3px 1px rgba(0, 0, 0, 0.15);\n",
              "      filter: drop-shadow(0px 1px 2px rgba(0, 0, 0, 0.3));\n",
              "      fill: #FFFFFF;\n",
              "    }\n",
              "  </style>\n",
              "\n",
              "    <script>\n",
              "      const buttonEl =\n",
              "        document.querySelector('#df-afe23882-b07f-481a-9a29-d0cc34921de4 button.colab-df-convert');\n",
              "      buttonEl.style.display =\n",
              "        google.colab.kernel.accessAllowed ? 'block' : 'none';\n",
              "\n",
              "      async function convertToInteractive(key) {\n",
              "        const element = document.querySelector('#df-afe23882-b07f-481a-9a29-d0cc34921de4');\n",
              "        const dataTable =\n",
              "          await google.colab.kernel.invokeFunction('convertToInteractive',\n",
              "                                                    [key], {});\n",
              "        if (!dataTable) return;\n",
              "\n",
              "        const docLinkHtml = 'Like what you see? Visit the ' +\n",
              "          '<a target=\"_blank\" href=https://colab.research.google.com/notebooks/data_table.ipynb>data table notebook</a>'\n",
              "          + ' to learn more about interactive tables.';\n",
              "        element.innerHTML = '';\n",
              "        dataTable['output_type'] = 'display_data';\n",
              "        await google.colab.output.renderOutput(dataTable, element);\n",
              "        const docLink = document.createElement('div');\n",
              "        docLink.innerHTML = docLinkHtml;\n",
              "        element.appendChild(docLink);\n",
              "      }\n",
              "    </script>\n",
              "  </div>\n",
              "\n",
              "\n",
              "<div id=\"df-dbede618-de5c-4a97-9c85-0ac15adb1983\">\n",
              "  <button class=\"colab-df-quickchart\" onclick=\"quickchart('df-dbede618-de5c-4a97-9c85-0ac15adb1983')\"\n",
              "            title=\"Suggest charts\"\n",
              "            style=\"display:none;\">\n",
              "\n",
              "<svg xmlns=\"http://www.w3.org/2000/svg\" height=\"24px\"viewBox=\"0 0 24 24\"\n",
              "     width=\"24px\">\n",
              "    <g>\n",
              "        <path d=\"M19 3H5c-1.1 0-2 .9-2 2v14c0 1.1.9 2 2 2h14c1.1 0 2-.9 2-2V5c0-1.1-.9-2-2-2zM9 17H7v-7h2v7zm4 0h-2V7h2v10zm4 0h-2v-4h2v4z\"/>\n",
              "    </g>\n",
              "</svg>\n",
              "  </button>\n",
              "\n",
              "<style>\n",
              "  .colab-df-quickchart {\n",
              "      --bg-color: #E8F0FE;\n",
              "      --fill-color: #1967D2;\n",
              "      --hover-bg-color: #E2EBFA;\n",
              "      --hover-fill-color: #174EA6;\n",
              "      --disabled-fill-color: #AAA;\n",
              "      --disabled-bg-color: #DDD;\n",
              "  }\n",
              "\n",
              "  [theme=dark] .colab-df-quickchart {\n",
              "      --bg-color: #3B4455;\n",
              "      --fill-color: #D2E3FC;\n",
              "      --hover-bg-color: #434B5C;\n",
              "      --hover-fill-color: #FFFFFF;\n",
              "      --disabled-bg-color: #3B4455;\n",
              "      --disabled-fill-color: #666;\n",
              "  }\n",
              "\n",
              "  .colab-df-quickchart {\n",
              "    background-color: var(--bg-color);\n",
              "    border: none;\n",
              "    border-radius: 50%;\n",
              "    cursor: pointer;\n",
              "    display: none;\n",
              "    fill: var(--fill-color);\n",
              "    height: 32px;\n",
              "    padding: 0;\n",
              "    width: 32px;\n",
              "  }\n",
              "\n",
              "  .colab-df-quickchart:hover {\n",
              "    background-color: var(--hover-bg-color);\n",
              "    box-shadow: 0 1px 2px rgba(60, 64, 67, 0.3), 0 1px 3px 1px rgba(60, 64, 67, 0.15);\n",
              "    fill: var(--button-hover-fill-color);\n",
              "  }\n",
              "\n",
              "  .colab-df-quickchart-complete:disabled,\n",
              "  .colab-df-quickchart-complete:disabled:hover {\n",
              "    background-color: var(--disabled-bg-color);\n",
              "    fill: var(--disabled-fill-color);\n",
              "    box-shadow: none;\n",
              "  }\n",
              "\n",
              "  .colab-df-spinner {\n",
              "    border: 2px solid var(--fill-color);\n",
              "    border-color: transparent;\n",
              "    border-bottom-color: var(--fill-color);\n",
              "    animation:\n",
              "      spin 1s steps(1) infinite;\n",
              "  }\n",
              "\n",
              "  @keyframes spin {\n",
              "    0% {\n",
              "      border-color: transparent;\n",
              "      border-bottom-color: var(--fill-color);\n",
              "      border-left-color: var(--fill-color);\n",
              "    }\n",
              "    20% {\n",
              "      border-color: transparent;\n",
              "      border-left-color: var(--fill-color);\n",
              "      border-top-color: var(--fill-color);\n",
              "    }\n",
              "    30% {\n",
              "      border-color: transparent;\n",
              "      border-left-color: var(--fill-color);\n",
              "      border-top-color: var(--fill-color);\n",
              "      border-right-color: var(--fill-color);\n",
              "    }\n",
              "    40% {\n",
              "      border-color: transparent;\n",
              "      border-right-color: var(--fill-color);\n",
              "      border-top-color: var(--fill-color);\n",
              "    }\n",
              "    60% {\n",
              "      border-color: transparent;\n",
              "      border-right-color: var(--fill-color);\n",
              "    }\n",
              "    80% {\n",
              "      border-color: transparent;\n",
              "      border-right-color: var(--fill-color);\n",
              "      border-bottom-color: var(--fill-color);\n",
              "    }\n",
              "    90% {\n",
              "      border-color: transparent;\n",
              "      border-bottom-color: var(--fill-color);\n",
              "    }\n",
              "  }\n",
              "</style>\n",
              "\n",
              "  <script>\n",
              "    async function quickchart(key) {\n",
              "      const quickchartButtonEl =\n",
              "        document.querySelector('#' + key + ' button');\n",
              "      quickchartButtonEl.disabled = true;  // To prevent multiple clicks.\n",
              "      quickchartButtonEl.classList.add('colab-df-spinner');\n",
              "      try {\n",
              "        const charts = await google.colab.kernel.invokeFunction(\n",
              "            'suggestCharts', [key], {});\n",
              "      } catch (error) {\n",
              "        console.error('Error during call to suggestCharts:', error);\n",
              "      }\n",
              "      quickchartButtonEl.classList.remove('colab-df-spinner');\n",
              "      quickchartButtonEl.classList.add('colab-df-quickchart-complete');\n",
              "    }\n",
              "    (() => {\n",
              "      let quickchartButtonEl =\n",
              "        document.querySelector('#df-dbede618-de5c-4a97-9c85-0ac15adb1983 button');\n",
              "      quickchartButtonEl.style.display =\n",
              "        google.colab.kernel.accessAllowed ? 'block' : 'none';\n",
              "    })();\n",
              "  </script>\n",
              "</div>\n",
              "    </div>\n",
              "  </div>\n"
            ]
          },
          "metadata": {},
          "execution_count": 6
        }
      ]
    },
    {
      "cell_type": "markdown",
      "source": [
        "**import essential libraries**"
      ],
      "metadata": {
        "id": "-OPIjmTR1l7E"
      }
    },
    {
      "cell_type": "code",
      "source": [
        "import string\n",
        "from nltk.tokenize import word_tokenize\n",
        "from nltk.stem import PorterStemmer\n",
        "from nltk.corpus import stopwords\n",
        "import pickle\n",
        "import os\n",
        "import re\n",
        "\n",
        "nltk.download('punkt')\n",
        "nltk.download('stopwords')\n"
      ],
      "metadata": {
        "colab": {
          "base_uri": "https://localhost:8080/"
        },
        "id": "4HgtdlbJ1hzK",
        "outputId": "af119584-4c84-4d14-a538-82706954dfb0"
      },
      "execution_count": 7,
      "outputs": [
        {
          "output_type": "stream",
          "name": "stderr",
          "text": [
            "[nltk_data] Downloading package punkt to /root/nltk_data...\n",
            "[nltk_data]   Package punkt is already up-to-date!\n",
            "[nltk_data] Downloading package stopwords to /root/nltk_data...\n",
            "[nltk_data]   Package stopwords is already up-to-date!\n"
          ]
        },
        {
          "output_type": "execute_result",
          "data": {
            "text/plain": [
              "True"
            ]
          },
          "metadata": {},
          "execution_count": 7
        }
      ]
    },
    {
      "cell_type": "markdown",
      "source": [
        "first we look for null values in english dataset"
      ],
      "metadata": {
        "id": "v4OnTOMF1q_E"
      }
    },
    {
      "cell_type": "code",
      "source": [
        "print(english_df.isnull().sum())"
      ],
      "metadata": {
        "colab": {
          "base_uri": "https://localhost:8080/"
        },
        "id": "SlHaJD5cyxMF",
        "outputId": "3e5caff7-7514-472f-e95b-99dfd5116caf"
      },
      "execution_count": 8,
      "outputs": [
        {
          "output_type": "stream",
          "name": "stdout",
          "text": [
            "id      0\n",
            "text    0\n",
            "dtype: int64\n"
          ]
        }
      ]
    },
    {
      "cell_type": "markdown",
      "source": [
        "**step 1: tokenizing words**\n",
        "\n",
        "then we tokenize the `text` column by words"
      ],
      "metadata": {
        "id": "sGZ2jNDr122n"
      }
    },
    {
      "cell_type": "code",
      "source": [
        "def tokenize_text(df, column_name, tokenized_column_name):\n",
        "    df[column_name] = df[column_name].apply(lambda x: x.translate(str.maketrans('', '', string.punctuation)))\n",
        "    df[tokenized_column_name] = df[column_name].apply(lambda x: word_tokenize(x))\n",
        "    return df\n",
        "\n",
        "processed_df = tokenize_text(english_df, 'text', 'tokenized_text')"
      ],
      "metadata": {
        "id": "SzknqC3qvsj3"
      },
      "execution_count": 9,
      "outputs": []
    },
    {
      "cell_type": "code",
      "source": [
        "english_df.loc[0, 'tokenized_text']"
      ],
      "metadata": {
        "colab": {
          "base_uri": "https://localhost:8080/"
        },
        "id": "VBCpnrvkhdRq",
        "outputId": "3918e7ad-2624-4e84-e4c7-db70c483110b"
      },
      "execution_count": 10,
      "outputs": [
        {
          "output_type": "execute_result",
          "data": {
            "text/plain": [
              "['Shlykov',\n",
              " 'a',\n",
              " 'hardworking',\n",
              " 'taxi',\n",
              " 'driver',\n",
              " 'and',\n",
              " 'Lyosha',\n",
              " 'a',\n",
              " 'saxophonist',\n",
              " 'develop',\n",
              " 'a',\n",
              " 'bizarre',\n",
              " 'lovehate',\n",
              " 'relationship',\n",
              " 'and',\n",
              " 'despite',\n",
              " 'their',\n",
              " 'prejudices',\n",
              " 'realize',\n",
              " 'they',\n",
              " 'arent',\n",
              " 'so',\n",
              " 'different',\n",
              " 'after',\n",
              " 'all']"
            ]
          },
          "metadata": {},
          "execution_count": 10
        }
      ]
    },
    {
      "cell_type": "markdown",
      "source": [
        "**step 2: normalizing tokens**\n",
        "\n",
        "after tokenizing, we normalize the `tokenized_text` column. This includes lowecasing the tokens."
      ],
      "metadata": {
        "id": "aXqmSTSB2DIS"
      }
    },
    {
      "cell_type": "code",
      "source": [
        "def normalize_text(text):\n",
        "    normalized_tokens = [token.lower() for token in text]\n",
        "    return normalized_tokens\n",
        "\n",
        "english_df['normalized_tokens'] = english_df['tokenized_text'].apply(normalize_text)"
      ],
      "metadata": {
        "id": "mxtXl5CkyQXf"
      },
      "execution_count": 11,
      "outputs": []
    },
    {
      "cell_type": "code",
      "source": [
        "english_df.loc[0, 'normalized_tokens']"
      ],
      "metadata": {
        "colab": {
          "base_uri": "https://localhost:8080/"
        },
        "id": "eeSPr2Nsh6kH",
        "outputId": "3b054e04-c184-41f0-e89e-29c1626a7345"
      },
      "execution_count": 12,
      "outputs": [
        {
          "output_type": "execute_result",
          "data": {
            "text/plain": [
              "['shlykov',\n",
              " 'a',\n",
              " 'hardworking',\n",
              " 'taxi',\n",
              " 'driver',\n",
              " 'and',\n",
              " 'lyosha',\n",
              " 'a',\n",
              " 'saxophonist',\n",
              " 'develop',\n",
              " 'a',\n",
              " 'bizarre',\n",
              " 'lovehate',\n",
              " 'relationship',\n",
              " 'and',\n",
              " 'despite',\n",
              " 'their',\n",
              " 'prejudices',\n",
              " 'realize',\n",
              " 'they',\n",
              " 'arent',\n",
              " 'so',\n",
              " 'different',\n",
              " 'after',\n",
              " 'all']"
            ]
          },
          "metadata": {},
          "execution_count": 12
        }
      ]
    },
    {
      "cell_type": "markdown",
      "source": [
        "**step 3: stemming normalized tokens**"
      ],
      "metadata": {
        "id": "EmZD73Mq2F2k"
      }
    },
    {
      "cell_type": "code",
      "source": [
        "def stem_normalized_tokens(tokens):\n",
        "    stemmer = PorterStemmer()\n",
        "    return [stemmer.stem(token) for token in tokens]\n",
        "\n",
        "english_df['stemmed_tokens'] = english_df['normalized_tokens'].apply(stem_normalized_tokens)"
      ],
      "metadata": {
        "id": "GrCpncfYzMxE"
      },
      "execution_count": 13,
      "outputs": []
    },
    {
      "cell_type": "code",
      "source": [
        "english_df.loc[0, 'stemmed_tokens']"
      ],
      "metadata": {
        "colab": {
          "base_uri": "https://localhost:8080/"
        },
        "id": "vs0MJMzaM2bm",
        "outputId": "c556e01b-d0f6-4e29-c970-b2f83ec91e61"
      },
      "execution_count": 14,
      "outputs": [
        {
          "output_type": "execute_result",
          "data": {
            "text/plain": [
              "['shlykov',\n",
              " 'a',\n",
              " 'hardwork',\n",
              " 'taxi',\n",
              " 'driver',\n",
              " 'and',\n",
              " 'lyosha',\n",
              " 'a',\n",
              " 'saxophonist',\n",
              " 'develop',\n",
              " 'a',\n",
              " 'bizarr',\n",
              " 'loveh',\n",
              " 'relationship',\n",
              " 'and',\n",
              " 'despit',\n",
              " 'their',\n",
              " 'prejudic',\n",
              " 'realiz',\n",
              " 'they',\n",
              " 'arent',\n",
              " 'so',\n",
              " 'differ',\n",
              " 'after',\n",
              " 'all']"
            ]
          },
          "metadata": {},
          "execution_count": 14
        }
      ]
    },
    {
      "cell_type": "markdown",
      "source": [
        "**step 4: removing stopwords**"
      ],
      "metadata": {
        "id": "OVV325nZIn90"
      }
    },
    {
      "cell_type": "code",
      "source": [
        "stop_words = set(stopwords.words('english'))\n",
        "\n",
        "def remove_stop_words(tokens):\n",
        "    return [token for token in tokens if token not in stop_words and token.isalpha()]\n",
        "\n",
        "english_df['final_tokens'] = english_df['stemmed_tokens'].apply(remove_stop_words)"
      ],
      "metadata": {
        "id": "SWpoYjJDInZY"
      },
      "execution_count": 15,
      "outputs": []
    },
    {
      "cell_type": "code",
      "source": [
        "english_df.loc[0, 'final_tokens']"
      ],
      "metadata": {
        "colab": {
          "base_uri": "https://localhost:8080/"
        },
        "id": "F4Lj6DduMt4q",
        "outputId": "2f5905c6-837d-4e4d-94b5-d673d77644d1"
      },
      "execution_count": 16,
      "outputs": [
        {
          "output_type": "execute_result",
          "data": {
            "text/plain": [
              "['shlykov',\n",
              " 'hardwork',\n",
              " 'taxi',\n",
              " 'driver',\n",
              " 'lyosha',\n",
              " 'saxophonist',\n",
              " 'develop',\n",
              " 'bizarr',\n",
              " 'loveh',\n",
              " 'relationship',\n",
              " 'despit',\n",
              " 'prejudic',\n",
              " 'realiz',\n",
              " 'arent',\n",
              " 'differ']"
            ]
          },
          "metadata": {},
          "execution_count": 16
        }
      ]
    },
    {
      "cell_type": "markdown",
      "source": [
        "**building the inverted index**"
      ],
      "metadata": {
        "id": "fSBfKlIwFlud"
      }
    },
    {
      "cell_type": "code",
      "source": [
        "def build_inverted_index(df, column_name):\n",
        "    inverted_index = {}\n",
        "\n",
        "    for index, row in df.head(1000).iterrows():\n",
        "        document_id = index\n",
        "        stemmed_tokens = row[column_name]\n",
        "\n",
        "        term_frequency = {}\n",
        "        for term in stemmed_tokens:\n",
        "            term_frequency[term] = term_frequency.get(term, 0) + 1\n",
        "\n",
        "        for term, frequency in term_frequency.items():\n",
        "            if term in inverted_index:\n",
        "                inverted_index[term].append((frequency, document_id))\n",
        "                inverted_index[term] = sorted(inverted_index[term], key=lambda x: x[0], reverse=True)\n",
        "\n",
        "            else:\n",
        "                inverted_index[term] = [(frequency, document_id)]\n",
        "\n",
        "    return inverted_index"
      ],
      "metadata": {
        "id": "ZFruXWvo-zs4"
      },
      "execution_count": 17,
      "outputs": []
    },
    {
      "cell_type": "code",
      "source": [
        "import time\n",
        "\n",
        "start = time.time()\n",
        "english_inverted_index = build_inverted_index(english_df, 'final_tokens')\n",
        "end = time.time()\n",
        "\n",
        "print(\"total execution time for english: \", end-start)\n",
        "\n",
        "# here's an example of how it looks\n",
        "english_inverted_index['psychologist']"
      ],
      "metadata": {
        "colab": {
          "base_uri": "https://localhost:8080/"
        },
        "id": "3ys0Nc68CZQH",
        "outputId": "627cd7a4-839c-4010-9523-c43585af17a9"
      },
      "execution_count": 18,
      "outputs": [
        {
          "output_type": "stream",
          "name": "stdout",
          "text": [
            "total execution time for english:  2.397524356842041\n"
          ]
        },
        {
          "output_type": "execute_result",
          "data": {
            "text/plain": [
              "[(2, 738), (1, 6), (1, 662), (1, 808), (1, 866), (1, 878), (1, 983)]"
            ]
          },
          "metadata": {},
          "execution_count": 18
        }
      ]
    },
    {
      "cell_type": "code",
      "source": [
        "def save_invertedindex_to_file(file_name, inverted_index):\n",
        "    with open(f'{file_name}.pkl', 'wb') as file:\n",
        "        pickle.dump(inverted_index, file)\n",
        "\n",
        "    file_size = os.path.getsize(f'{file_name}.pkl')\n",
        "    print(f'Inverted index saved to file. File size: {file_size} bytes')"
      ],
      "metadata": {
        "id": "q97hSkGZQL3V"
      },
      "execution_count": 19,
      "outputs": []
    },
    {
      "cell_type": "code",
      "source": [
        "save_invertedindex_to_file('English_Inverted_Index', english_inverted_index)"
      ],
      "metadata": {
        "colab": {
          "base_uri": "https://localhost:8080/"
        },
        "id": "E-KjsPhRQfWr",
        "outputId": "31902774-7cfd-4d94-dbfd-0b1d3aa3a439"
      },
      "execution_count": 20,
      "outputs": [
        {
          "output_type": "stream",
          "name": "stdout",
          "text": [
            "Inverted index saved to file. File size: 1018813 bytes\n"
          ]
        }
      ]
    },
    {
      "cell_type": "markdown",
      "source": [
        "**building the term occurence matrix (binary coded)**"
      ],
      "metadata": {
        "id": "wDxlZ7AgGYkN"
      }
    },
    {
      "cell_type": "code",
      "source": [
        "def build_term_occurences(inverted_index):\n",
        "    term_occurrences = {}\n",
        "    unique_doc_ids = []\n",
        "\n",
        "    for postings in inverted_index.values():\n",
        "        for _, doc_id in postings:\n",
        "            if doc_id not in unique_doc_ids:\n",
        "                unique_doc_ids.append(doc_id)\n",
        "\n",
        "    for term, postings in inverted_index.items():\n",
        "        term_occurrence_list = [1 if doc_id in [doc_id for _, doc_id in postings] else 0 for doc_id in unique_doc_ids]\n",
        "        term_occurrences[term] = term_occurrence_list\n",
        "\n",
        "    return term_occurrences\n"
      ],
      "metadata": {
        "id": "DheHAA-nLxug"
      },
      "execution_count": 21,
      "outputs": []
    },
    {
      "cell_type": "code",
      "source": [
        "english_term_occurences = build_term_occurences(english_inverted_index)"
      ],
      "metadata": {
        "id": "Ak-qAfhpK9WS"
      },
      "execution_count": 22,
      "outputs": []
    },
    {
      "cell_type": "markdown",
      "source": [
        "**boolean IR**"
      ],
      "metadata": {
        "id": "5E3HOnqRGkbD"
      }
    },
    {
      "cell_type": "code",
      "source": [
        "import re\n",
        "\n",
        "def query_processing(term_occurrences):\n",
        "    query = input(\"please enter your query: \")\n",
        "\n",
        "    substrings = re.split(r'([+.])', query)\n",
        "\n",
        "    terms = []\n",
        "    terms_bin = []\n",
        "    expressions = []\n",
        "    binary_code = \"\"\n",
        "\n",
        "    for sub in substrings:\n",
        "        # terms\n",
        "        if sub and sub not in ['+', '.']:\n",
        "            if sub.startswith('!'):\n",
        "                if sub[1:] not in term_occurrences:\n",
        "                    binary_code = [0] * 1000\n",
        "                else:\n",
        "                    binary_code = term_occurrences[sub[1:]]\n",
        "                    binary_code = [1 if bit == 0 else 0 for bit in binary_code]\n",
        "                terms.append(sub[1:])\n",
        "            else:\n",
        "                if sub not in term_occurrences:\n",
        "                    binary_code = [0] * 1000\n",
        "                else:\n",
        "                    binary_code = term_occurrences[sub]\n",
        "                terms.append(sub)\n",
        "\n",
        "            terms_bin.append(binary_code)\n",
        "\n",
        "        # expressions\n",
        "        elif sub:\n",
        "            expressions.append(sub)\n",
        "\n",
        "    for i, exp in enumerate(expressions):\n",
        "        if exp == '+':\n",
        "            result_or = [bit1 | bit2 for bit1, bit2 in zip(terms_bin[i], terms_bin[i+1])]\n",
        "            terms_bin[i+1] = result_or\n",
        "        elif exp == '.':\n",
        "            result_and = [bit1 & bit2 for bit1, bit2 in zip(terms_bin[i], terms_bin[i+1])]\n",
        "            terms_bin[i+1] = result_and\n",
        "\n",
        "    result = terms_bin[-1]\n",
        "    documents = [index  for index, value in enumerate(result) if value == 1]\n",
        "\n",
        "    print(\"These documents are found: \", documents)\n"
      ],
      "metadata": {
        "id": "M5s2k1m5yUbh"
      },
      "execution_count": 24,
      "outputs": []
    },
    {
      "cell_type": "code",
      "source": [
        "query_processing(english_term_occurences)"
      ],
      "metadata": {
        "colab": {
          "base_uri": "https://localhost:8080/"
        },
        "id": "uasv7gdKVvj1",
        "outputId": "92bc7d82-c68c-422e-da9d-b2abba877967"
      },
      "execution_count": 25,
      "outputs": [
        {
          "output_type": "stream",
          "name": "stdout",
          "text": [
            "please enter your query: complex+!city\n",
            "These documents are found:  [90, 122, 184, 207, 264, 268, 297, 304, 318, 536, 847, 951]\n"
          ]
        }
      ]
    },
    {
      "cell_type": "code",
      "source": [
        "def count_tokens_and_documents(df, column_name):\n",
        "    total_tokens = sum(df[column_name].apply(len))\n",
        "    total_documents = len(df)\n",
        "    return total_tokens, total_documents"
      ],
      "metadata": {
        "id": "ijgs0GlXNeEf"
      },
      "execution_count": 26,
      "outputs": []
    },
    {
      "cell_type": "code",
      "source": [
        "total_english_tokens, total_english_documents = count_tokens_and_documents(english_df, 'final_tokens')\n",
        "\n",
        "print(f'Total tokens: {total_english_tokens}')\n",
        "print(f'Total documents: {total_english_documents}')"
      ],
      "metadata": {
        "colab": {
          "base_uri": "https://localhost:8080/"
        },
        "id": "CPvaUxLcN3mN",
        "outputId": "4df958d6-2e32-450c-c030-02fc8d43a339"
      },
      "execution_count": 27,
      "outputs": [
        {
          "output_type": "stream",
          "name": "stdout",
          "text": [
            "Total tokens: 7489549\n",
            "Total documents: 42303\n"
          ]
        }
      ]
    },
    {
      "cell_type": "markdown",
      "source": [
        "#Persian Dataset"
      ],
      "metadata": {
        "id": "eUbaitWDs_Wr"
      }
    },
    {
      "cell_type": "code",
      "source": [
        "!wget https://github.com/mohamad-dehghani/persian-pdf-books-dataset/raw/master/final_books.xlsx"
      ],
      "metadata": {
        "colab": {
          "base_uri": "https://localhost:8080/"
        },
        "id": "r15QOnA42v-h",
        "outputId": "9ae7bf3d-24b2-4ba5-a077-7a72a702456f"
      },
      "execution_count": 28,
      "outputs": [
        {
          "output_type": "stream",
          "name": "stdout",
          "text": [
            "--2023-11-10 17:42:24--  https://github.com/mohamad-dehghani/persian-pdf-books-dataset/raw/master/final_books.xlsx\n",
            "Resolving github.com (github.com)... 192.30.255.112\n",
            "Connecting to github.com (github.com)|192.30.255.112|:443... connected.\n",
            "HTTP request sent, awaiting response... 302 Found\n",
            "Location: https://raw.githubusercontent.com/mohamad-dehghani/persian-pdf-books-dataset/master/final_books.xlsx [following]\n",
            "--2023-11-10 17:42:24--  https://raw.githubusercontent.com/mohamad-dehghani/persian-pdf-books-dataset/master/final_books.xlsx\n",
            "Resolving raw.githubusercontent.com (raw.githubusercontent.com)... 185.199.108.133, 185.199.109.133, 185.199.110.133, ...\n",
            "Connecting to raw.githubusercontent.com (raw.githubusercontent.com)|185.199.108.133|:443... connected.\n",
            "HTTP request sent, awaiting response... 200 OK\n",
            "Length: 1380625 (1.3M) [application/octet-stream]\n",
            "Saving to: ‘final_books.xlsx.4’\n",
            "\n",
            "final_books.xlsx.4  100%[===================>]   1.32M  --.-KB/s    in 0.05s   \n",
            "\n",
            "2023-11-10 17:42:25 (27.0 MB/s) - ‘final_books.xlsx.4’ saved [1380625/1380625]\n",
            "\n"
          ]
        }
      ]
    },
    {
      "cell_type": "code",
      "source": [
        "farsi_df = pd.read_excel('/content/final_books.xlsx')\n",
        "farsi_df.info()"
      ],
      "metadata": {
        "colab": {
          "base_uri": "https://localhost:8080/"
        },
        "id": "nZp4SmsMr_p9",
        "outputId": "24ebb7e7-2b3a-413a-81e1-c924ab1ca665"
      },
      "execution_count": 29,
      "outputs": [
        {
          "output_type": "stream",
          "name": "stdout",
          "text": [
            "<class 'pandas.core.frame.DataFrame'>\n",
            "RangeIndex: 2824 entries, 0 to 2823\n",
            "Data columns (total 6 columns):\n",
            " #   Column    Non-Null Count  Dtype \n",
            "---  ------    --------------  ----- \n",
            " 0   title     2824 non-null   object\n",
            " 1   date      2824 non-null   object\n",
            " 2   content   2441 non-null   object\n",
            " 3   category  2824 non-null   object\n",
            " 4   author    2824 non-null   object\n",
            " 5   comments  2824 non-null   object\n",
            "dtypes: object(6)\n",
            "memory usage: 132.5+ KB\n"
          ]
        }
      ]
    },
    {
      "cell_type": "code",
      "source": [
        "farsi_df.head()"
      ],
      "metadata": {
        "colab": {
          "base_uri": "https://localhost:8080/",
          "height": 206
        },
        "id": "EL8CFljH21f5",
        "outputId": "35f17707-8b6c-4c9c-d93b-ca1e0a738e14"
      },
      "execution_count": 30,
      "outputs": [
        {
          "output_type": "execute_result",
          "data": {
            "text/plain": [
              "                             title           date  \\\n",
              "0             بهترین درسهای زندگی‎     ۲ دی ۱۳۹۸    \n",
              "1               از سلاجقه تا صفویه     ۱ دی ۱۳۹۸    \n",
              "2                    سرگذشت رضاشاه   ۲۹ آذر ۱۳۹۸    \n",
              "3   سیری نوین در فرگشت و اسرار مغز   ۲۸ آذر ۱۳۹۸    \n",
              "4                    آسمان پرستاره   ۲۶ آذر ۱۳۹۸    \n",
              "\n",
              "                                             content           category  \\\n",
              "0   تی دی جیکس یک کشیش، نویسنده، سخنران آمریکایی ...          روانشناسی   \n",
              "1   کتاب حاضر که اینک در دسترس خوانندگان محترم قر...        تاریخ ایران   \n",
              "2   دکتر فتح الله بینا تحصیلات خود را در رشته پزش...        تاریخ ایران   \n",
              "3   مجموعه پیش رو مطالبیست که در گروه Evolution ت...         علم و دانش   \n",
              "4   کتاب آسمان پرستاره نوشته‌ی کتی هایدن، به زبان...  کودکان و نوجوانان   \n",
              "\n",
              "                         author     comments  \n",
              "0                  سارا رزولت    بدون دیدگاه  \n",
              "1            نصرت الله مشکوتی    بدون دیدگاه  \n",
              "2               فتح الله بینا    بدون دیدگاه  \n",
              "3                مانی منوچهری    بدون دیدگاه  \n",
              "4                   کتی هایدن    بدون دیدگاه  "
            ],
            "text/html": [
              "\n",
              "  <div id=\"df-84ee414a-bf9f-4a0c-a9f7-f755f426d585\" class=\"colab-df-container\">\n",
              "    <div>\n",
              "<style scoped>\n",
              "    .dataframe tbody tr th:only-of-type {\n",
              "        vertical-align: middle;\n",
              "    }\n",
              "\n",
              "    .dataframe tbody tr th {\n",
              "        vertical-align: top;\n",
              "    }\n",
              "\n",
              "    .dataframe thead th {\n",
              "        text-align: right;\n",
              "    }\n",
              "</style>\n",
              "<table border=\"1\" class=\"dataframe\">\n",
              "  <thead>\n",
              "    <tr style=\"text-align: right;\">\n",
              "      <th></th>\n",
              "      <th>title</th>\n",
              "      <th>date</th>\n",
              "      <th>content</th>\n",
              "      <th>category</th>\n",
              "      <th>author</th>\n",
              "      <th>comments</th>\n",
              "    </tr>\n",
              "  </thead>\n",
              "  <tbody>\n",
              "    <tr>\n",
              "      <th>0</th>\n",
              "      <td>بهترین درسهای زندگی‎</td>\n",
              "      <td>۲ دی ۱۳۹۸</td>\n",
              "      <td>تی دی جیکس یک کشیش، نویسنده، سخنران آمریکایی ...</td>\n",
              "      <td>روانشناسی</td>\n",
              "      <td>سارا رزولت</td>\n",
              "      <td>بدون دیدگاه</td>\n",
              "    </tr>\n",
              "    <tr>\n",
              "      <th>1</th>\n",
              "      <td>از سلاجقه تا صفویه</td>\n",
              "      <td>۱ دی ۱۳۹۸</td>\n",
              "      <td>کتاب حاضر که اینک در دسترس خوانندگان محترم قر...</td>\n",
              "      <td>تاریخ ایران</td>\n",
              "      <td>نصرت الله مشکوتی</td>\n",
              "      <td>بدون دیدگاه</td>\n",
              "    </tr>\n",
              "    <tr>\n",
              "      <th>2</th>\n",
              "      <td>سرگذشت رضاشاه</td>\n",
              "      <td>۲۹ آذر ۱۳۹۸</td>\n",
              "      <td>دکتر فتح الله بینا تحصیلات خود را در رشته پزش...</td>\n",
              "      <td>تاریخ ایران</td>\n",
              "      <td>فتح الله بینا</td>\n",
              "      <td>بدون دیدگاه</td>\n",
              "    </tr>\n",
              "    <tr>\n",
              "      <th>3</th>\n",
              "      <td>سیری نوین در فرگشت و اسرار مغز</td>\n",
              "      <td>۲۸ آذر ۱۳۹۸</td>\n",
              "      <td>مجموعه پیش رو مطالبیست که در گروه Evolution ت...</td>\n",
              "      <td>علم و دانش</td>\n",
              "      <td>مانی منوچهری</td>\n",
              "      <td>بدون دیدگاه</td>\n",
              "    </tr>\n",
              "    <tr>\n",
              "      <th>4</th>\n",
              "      <td>آسمان پرستاره</td>\n",
              "      <td>۲۶ آذر ۱۳۹۸</td>\n",
              "      <td>کتاب آسمان پرستاره نوشته‌ی کتی هایدن، به زبان...</td>\n",
              "      <td>کودکان و نوجوانان</td>\n",
              "      <td>کتی هایدن</td>\n",
              "      <td>بدون دیدگاه</td>\n",
              "    </tr>\n",
              "  </tbody>\n",
              "</table>\n",
              "</div>\n",
              "    <div class=\"colab-df-buttons\">\n",
              "\n",
              "  <div class=\"colab-df-container\">\n",
              "    <button class=\"colab-df-convert\" onclick=\"convertToInteractive('df-84ee414a-bf9f-4a0c-a9f7-f755f426d585')\"\n",
              "            title=\"Convert this dataframe to an interactive table.\"\n",
              "            style=\"display:none;\">\n",
              "\n",
              "  <svg xmlns=\"http://www.w3.org/2000/svg\" height=\"24px\" viewBox=\"0 -960 960 960\">\n",
              "    <path d=\"M120-120v-720h720v720H120Zm60-500h600v-160H180v160Zm220 220h160v-160H400v160Zm0 220h160v-160H400v160ZM180-400h160v-160H180v160Zm440 0h160v-160H620v160ZM180-180h160v-160H180v160Zm440 0h160v-160H620v160Z\"/>\n",
              "  </svg>\n",
              "    </button>\n",
              "\n",
              "  <style>\n",
              "    .colab-df-container {\n",
              "      display:flex;\n",
              "      gap: 12px;\n",
              "    }\n",
              "\n",
              "    .colab-df-convert {\n",
              "      background-color: #E8F0FE;\n",
              "      border: none;\n",
              "      border-radius: 50%;\n",
              "      cursor: pointer;\n",
              "      display: none;\n",
              "      fill: #1967D2;\n",
              "      height: 32px;\n",
              "      padding: 0 0 0 0;\n",
              "      width: 32px;\n",
              "    }\n",
              "\n",
              "    .colab-df-convert:hover {\n",
              "      background-color: #E2EBFA;\n",
              "      box-shadow: 0px 1px 2px rgba(60, 64, 67, 0.3), 0px 1px 3px 1px rgba(60, 64, 67, 0.15);\n",
              "      fill: #174EA6;\n",
              "    }\n",
              "\n",
              "    .colab-df-buttons div {\n",
              "      margin-bottom: 4px;\n",
              "    }\n",
              "\n",
              "    [theme=dark] .colab-df-convert {\n",
              "      background-color: #3B4455;\n",
              "      fill: #D2E3FC;\n",
              "    }\n",
              "\n",
              "    [theme=dark] .colab-df-convert:hover {\n",
              "      background-color: #434B5C;\n",
              "      box-shadow: 0px 1px 3px 1px rgba(0, 0, 0, 0.15);\n",
              "      filter: drop-shadow(0px 1px 2px rgba(0, 0, 0, 0.3));\n",
              "      fill: #FFFFFF;\n",
              "    }\n",
              "  </style>\n",
              "\n",
              "    <script>\n",
              "      const buttonEl =\n",
              "        document.querySelector('#df-84ee414a-bf9f-4a0c-a9f7-f755f426d585 button.colab-df-convert');\n",
              "      buttonEl.style.display =\n",
              "        google.colab.kernel.accessAllowed ? 'block' : 'none';\n",
              "\n",
              "      async function convertToInteractive(key) {\n",
              "        const element = document.querySelector('#df-84ee414a-bf9f-4a0c-a9f7-f755f426d585');\n",
              "        const dataTable =\n",
              "          await google.colab.kernel.invokeFunction('convertToInteractive',\n",
              "                                                    [key], {});\n",
              "        if (!dataTable) return;\n",
              "\n",
              "        const docLinkHtml = 'Like what you see? Visit the ' +\n",
              "          '<a target=\"_blank\" href=https://colab.research.google.com/notebooks/data_table.ipynb>data table notebook</a>'\n",
              "          + ' to learn more about interactive tables.';\n",
              "        element.innerHTML = '';\n",
              "        dataTable['output_type'] = 'display_data';\n",
              "        await google.colab.output.renderOutput(dataTable, element);\n",
              "        const docLink = document.createElement('div');\n",
              "        docLink.innerHTML = docLinkHtml;\n",
              "        element.appendChild(docLink);\n",
              "      }\n",
              "    </script>\n",
              "  </div>\n",
              "\n",
              "\n",
              "<div id=\"df-1d40f7a0-2725-462e-afda-dd8d53ef2800\">\n",
              "  <button class=\"colab-df-quickchart\" onclick=\"quickchart('df-1d40f7a0-2725-462e-afda-dd8d53ef2800')\"\n",
              "            title=\"Suggest charts\"\n",
              "            style=\"display:none;\">\n",
              "\n",
              "<svg xmlns=\"http://www.w3.org/2000/svg\" height=\"24px\"viewBox=\"0 0 24 24\"\n",
              "     width=\"24px\">\n",
              "    <g>\n",
              "        <path d=\"M19 3H5c-1.1 0-2 .9-2 2v14c0 1.1.9 2 2 2h14c1.1 0 2-.9 2-2V5c0-1.1-.9-2-2-2zM9 17H7v-7h2v7zm4 0h-2V7h2v10zm4 0h-2v-4h2v4z\"/>\n",
              "    </g>\n",
              "</svg>\n",
              "  </button>\n",
              "\n",
              "<style>\n",
              "  .colab-df-quickchart {\n",
              "      --bg-color: #E8F0FE;\n",
              "      --fill-color: #1967D2;\n",
              "      --hover-bg-color: #E2EBFA;\n",
              "      --hover-fill-color: #174EA6;\n",
              "      --disabled-fill-color: #AAA;\n",
              "      --disabled-bg-color: #DDD;\n",
              "  }\n",
              "\n",
              "  [theme=dark] .colab-df-quickchart {\n",
              "      --bg-color: #3B4455;\n",
              "      --fill-color: #D2E3FC;\n",
              "      --hover-bg-color: #434B5C;\n",
              "      --hover-fill-color: #FFFFFF;\n",
              "      --disabled-bg-color: #3B4455;\n",
              "      --disabled-fill-color: #666;\n",
              "  }\n",
              "\n",
              "  .colab-df-quickchart {\n",
              "    background-color: var(--bg-color);\n",
              "    border: none;\n",
              "    border-radius: 50%;\n",
              "    cursor: pointer;\n",
              "    display: none;\n",
              "    fill: var(--fill-color);\n",
              "    height: 32px;\n",
              "    padding: 0;\n",
              "    width: 32px;\n",
              "  }\n",
              "\n",
              "  .colab-df-quickchart:hover {\n",
              "    background-color: var(--hover-bg-color);\n",
              "    box-shadow: 0 1px 2px rgba(60, 64, 67, 0.3), 0 1px 3px 1px rgba(60, 64, 67, 0.15);\n",
              "    fill: var(--button-hover-fill-color);\n",
              "  }\n",
              "\n",
              "  .colab-df-quickchart-complete:disabled,\n",
              "  .colab-df-quickchart-complete:disabled:hover {\n",
              "    background-color: var(--disabled-bg-color);\n",
              "    fill: var(--disabled-fill-color);\n",
              "    box-shadow: none;\n",
              "  }\n",
              "\n",
              "  .colab-df-spinner {\n",
              "    border: 2px solid var(--fill-color);\n",
              "    border-color: transparent;\n",
              "    border-bottom-color: var(--fill-color);\n",
              "    animation:\n",
              "      spin 1s steps(1) infinite;\n",
              "  }\n",
              "\n",
              "  @keyframes spin {\n",
              "    0% {\n",
              "      border-color: transparent;\n",
              "      border-bottom-color: var(--fill-color);\n",
              "      border-left-color: var(--fill-color);\n",
              "    }\n",
              "    20% {\n",
              "      border-color: transparent;\n",
              "      border-left-color: var(--fill-color);\n",
              "      border-top-color: var(--fill-color);\n",
              "    }\n",
              "    30% {\n",
              "      border-color: transparent;\n",
              "      border-left-color: var(--fill-color);\n",
              "      border-top-color: var(--fill-color);\n",
              "      border-right-color: var(--fill-color);\n",
              "    }\n",
              "    40% {\n",
              "      border-color: transparent;\n",
              "      border-right-color: var(--fill-color);\n",
              "      border-top-color: var(--fill-color);\n",
              "    }\n",
              "    60% {\n",
              "      border-color: transparent;\n",
              "      border-right-color: var(--fill-color);\n",
              "    }\n",
              "    80% {\n",
              "      border-color: transparent;\n",
              "      border-right-color: var(--fill-color);\n",
              "      border-bottom-color: var(--fill-color);\n",
              "    }\n",
              "    90% {\n",
              "      border-color: transparent;\n",
              "      border-bottom-color: var(--fill-color);\n",
              "    }\n",
              "  }\n",
              "</style>\n",
              "\n",
              "  <script>\n",
              "    async function quickchart(key) {\n",
              "      const quickchartButtonEl =\n",
              "        document.querySelector('#' + key + ' button');\n",
              "      quickchartButtonEl.disabled = true;  // To prevent multiple clicks.\n",
              "      quickchartButtonEl.classList.add('colab-df-spinner');\n",
              "      try {\n",
              "        const charts = await google.colab.kernel.invokeFunction(\n",
              "            'suggestCharts', [key], {});\n",
              "      } catch (error) {\n",
              "        console.error('Error during call to suggestCharts:', error);\n",
              "      }\n",
              "      quickchartButtonEl.classList.remove('colab-df-spinner');\n",
              "      quickchartButtonEl.classList.add('colab-df-quickchart-complete');\n",
              "    }\n",
              "    (() => {\n",
              "      let quickchartButtonEl =\n",
              "        document.querySelector('#df-1d40f7a0-2725-462e-afda-dd8d53ef2800 button');\n",
              "      quickchartButtonEl.style.display =\n",
              "        google.colab.kernel.accessAllowed ? 'block' : 'none';\n",
              "    })();\n",
              "  </script>\n",
              "</div>\n",
              "    </div>\n",
              "  </div>\n"
            ]
          },
          "metadata": {},
          "execution_count": 30
        }
      ]
    },
    {
      "cell_type": "code",
      "source": [
        "farsi_df.iloc[440:480]"
      ],
      "metadata": {
        "colab": {
          "base_uri": "https://localhost:8080/",
          "height": 1000
        },
        "id": "0tsqzc8TRPd_",
        "outputId": "e1230412-3f20-4827-9636-92544419d102"
      },
      "execution_count": 31,
      "outputs": [
        {
          "output_type": "execute_result",
          "data": {
            "text/plain": [
              "                                                 title            date  \\\n",
              "440                              صوتی هاشمی بدون روتوش   ۱۸ بهمن ۱۳۹۶    \n",
              "441   تاریخ زندگی اقتصادی روستاییان و طبقات اجتماعی...   ۱۷ بهمن ۱۳۹۶    \n",
              "442                    کاهش وزن سریع با ۳۰ تکنیک طلایی   ۱۵ بهمن ۱۳۹۶    \n",
              "443                                صوتی روانشناسی زنان   ۱۵ بهمن ۱۳۹۶    \n",
              "444                                ایران در عهد باستان   ۱۳ بهمن ۱۳۹۶    \n",
              "445        صوتی ناکامی چپ در ایران : شورشیان آرمانخواه   ۱۲ بهمن ۱۳۹۶    \n",
              "446               آن زندگی را انتخاب کنید که می خواهید   ۱۰ بهمن ۱۳۹۶    \n",
              "447                                      درباره‌ی زمان    ۹ بهمن ۱۳۹۶    \n",
              "448                                        صوتی شهریار    ۸ بهمن ۱۳۹۶    \n",
              "449                                   PHP به زبان ساده    ۸ بهمن ۱۳۹۶    \n",
              "450                                     دانشمندان بزرگ    ۶ بهمن ۱۳۹۶    \n",
              "451                                  زندگی و زمانه شاه    ۵ بهمن ۱۳۹۶    \n",
              "452                       بابک خرمدین، دلاور آذربایجان    ۴ بهمن ۱۳۹۶    \n",
              "453                      تاریخ تریاک و تریاکی در ایران    ۱ بهمن ۱۳۹۶    \n",
              "454                                        کریمخان زند    ۱ بهمن ۱۳۹۶    \n",
              "455                کتیبه‌ های تخت جمشید از نگاهی دیگر‎     ۲۹ دی ۱۳۹۶    \n",
              "456                                        پزشکی آینده     ۲۵ دی ۱۳۹۶    \n",
              "457                          جانوران زهرآگین خلیج فارس     ۲۵ دی ۱۳۹۶    \n",
              "458                                   همسر دوست داشتنی     ۲۳ دی ۱۳۹۶    \n",
              "459                                       فرشتگان بزرگ     ۲۲ دی ۱۳۹۶    \n",
              "460                                یک، دو، سه، بینهایت     ۱۹ دی ۱۳۹۶    \n",
              "461                  جاذبه های گردشگری در ایران و جهان     ۱۸ دی ۱۳۹۶    \n",
              "462                              مروری بر تاریخ آمریکا     ۱۶ دی ۱۳۹۶    \n",
              "463                            زبان شناسی و زبان فارسی     ۱۴ دی ۱۳۹۶    \n",
              "464                              دانستنی های فیلم سازی     ۱۲ دی ۱۳۹۶    \n",
              "465                                       قلعه حیوانات     ۱۱ دی ۱۳۹۶    \n",
              "466                             دومینوی تهران فرو ریخت     ۱۱ دی ۱۳۹۶    \n",
              "467                         آموزش برنامه نویسی در اکسل      ۹ دی ۱۳۹۶    \n",
              "468                                 چگونه انسان غول شد      ۷ دی ۱۳۹۶    \n",
              "469                          فارسی دوم دبستان سال ۱۳۶۰      ۵ دی ۱۳۹۶    \n",
              "470               تعلیمات اجتماعی سوم ابتدایی سال ۱۳۶۲      ۳ دی ۱۳۹۶    \n",
              "471                                    دنیای پس از مرگ      ۲ دی ۱۳۹۶    \n",
              "472                            ویتامین ها و مواد معدنی    ۲۹ آذر ۱۳۹۶    \n",
              "473                                     لایحه بودجه ۹۷    ۲۶ آذر ۱۳۹۶    \n",
              "474                                          اصول تشیع    ۲۵ آذر ۱۳۹۶    \n",
              "475                         آرمان شهریاری ایران باستان    ۲۲ آذر ۱۳۹۶    \n",
              "476                                              لبخند    ۲۱ آذر ۱۳۹۶    \n",
              "477                                           زندگاهان    ۲۱ آذر ۱۳۹۶    \n",
              "478                           همه ‌چیز درباره بیت‌کوین    ۱۸ آذر ۱۳۹۶    \n",
              "479                                        علوم تکمیلی    ۱۷ آذر ۱۳۹۶    \n",
              "\n",
              "                                               content          category  \\\n",
              "440  کتاب صوتی «هاشمی بدون روتوش» مجموعه گفت‌و‌گوها...    دسته‌بندی نشده   \n",
              "441   موضوع این کتاب چنانکه از نام آن برمی آید دربا...       تاریخ ایران   \n",
              "442   با کتاب کاهش وزن سریع با ۳۰ تکنیک طلایی نوشته...     پزشکی و سلامت   \n",
              "443  کتاب صوتی «روانشناسی زنان» (Feminine Psycholog...         روانشناسی   \n",
              "444   ایران در عهد باستان: در تاریخ اقوام و پادشاها...       تاریخ ایران   \n",
              "445   کتاب صوتی «ناکامی چپ در ایران : شورشیان آرمان...    دسته‌بندی نشده   \n",
              "446   اواسط ژانویه بود. در حیاط دانشگاه هاروارد به ...         روانشناسی   \n",
              "447   مفهوم زمان چندان آشنا و نزدیک است، که نامفهوم...             فلسفه   \n",
              "448  کتاب صوتی «شهریار» اثر نیکولو ماکیاولی (۱۵۲۷-۱...    دسته‌بندی نشده   \n",
              "449  در این کتاب سعی شده است که مطالب به زبان و کده...      برنامه نویسی   \n",
              "450  کتاب مشتمل بر شرح حال علمایی ست که تحقیقات و آ...         زندگینامه   \n",
              "451  «زندگی و زمانه شاه» دی ماه سال ۱۳۸۷ روانه بازا...       تاریخ ایران   \n",
              "452   یکی از بزرگترین جنبش هایی که برای کوتاه کردن ...       تاریخ ایران   \n",
              "453   تریاک از نخستین داروهایی است که بشر شناخته اس...       تاریخ ایران   \n",
              "454   کتاب شرح زندگی کریمخان زند معروف به وکیل الرع...       تاریخ ایران   \n",
              "455   تخت جمشید (پارسه) یکی از شاهکار های هنر و تمد...       تاریخ ایران   \n",
              "456   آینده پژوهان بر این باورند که پزشکی به آن گون...     پزشکی و سلامت   \n",
              "457   دریا گستره‌ای بس زیبا، فریبنده و شگفت انگیز ا...           حیوانات   \n",
              "458   کتاب همسر دوست داشتنی نوشته مهدی خدامیان آران...    خانه و خانواده   \n",
              "459  مترلینک در سال ۱۸۶۲ در شهر گنت در قسمت فلاندر ...             فلسفه   \n",
              "460  از اتم ها و ستارگان و ابرها، از انتروپی و ژن ه...       علوم مهندسی   \n",
              "461   ۱۰ آرامگاه تماشایی جهان – ۴نکته مهم در رانندگ...             ایران   \n",
              "462   تاریخ آمریکا بعنوان یک کشور به کمابیش دویست س...        تاریخ جهان   \n",
              "463   دستور زبان فارسی خانلری اولین بار در سال ۱۳۴۳...        آموزش زبان   \n",
              "464   فیلم‌ برداری مهم ‌ترین مرحله تولید فیلم است. ...             سینما   \n",
              "465   مزرعهٔ حیوانات ( Animal Farm) که در ایران به ...           حیوانات   \n",
              "466   کتاب الکترونیکی «دومینوی تهران فرو ریخت»، یک ...     داستان و رمان   \n",
              "467  نسخه‌های ویندوزی نرم‌افزار اکسل از برنامه‌نویس...              آفیس   \n",
              "468  انسان ها در حدوذ ۶۰۰۰ سال پیش که مردم بیابان گ...        علم و دانش   \n",
              "469   هیچ لذتی برای انسان در هنگام پیری یادآواری کو...   درسی و دانشگاهی   \n",
              "470   کودکی از پدیده‌هایی است که می‌تواند تا آخر عم...   درسی و دانشگاهی   \n",
              "471   موریس مترلینگ در کتاب «دنیای پس از مرگ» به مس...  علوم ماورا طبیعی   \n",
              "472   • « ویتامین A » • «روی» عنصری حیاتی • ” ویتام...     پزشکی و سلامت   \n",
              "473   بودجهٔ کل کشور در ایران برنامهٔ مالی دولت این...            اقتصاد   \n",
              "474  اصول تشیع بررسی عقاید مذهب تشیع و جواب از شبها...      دینی و مذهبی   \n",
              "475  هرکس به تاریخ شاهنشاهی ایران باستان آگاه باشد ...       تاریخ ایران   \n",
              "476  مهدی آذریزدی (آذر خرمشاهی)، نویسنده و بازنویس ...     داستان و رمان   \n",
              "477   کتاب زندگاهان اثر شروین وکیلی، جلد نخست از مج...             فلسفه   \n",
              "478   شاید جالب‌ترین، عجیب‌ترین و کمی هم حسرت‌ بران...            اقتصاد   \n",
              "479   علوم تجربی بخشی از دانش امروزی است که حاصل مط...        علم و دانش   \n",
              "\n",
              "                                                author     comments  \n",
              "440            صادق زیباکلام، فرشته‌السادات اتفاق‌فر       ۱ دیدگاه  \n",
              "441                                 غلامرضا انصافپور       ۱ دیدگاه  \n",
              "442                                 ابراهیم رجب زاده       ۲ دیدگاه  \n",
              "443                                      کارن هورنای    بدون دیدگاه  \n",
              "444                                   محمدجواد مشکور    بدون دیدگاه  \n",
              "445                                     مازیار بهروز    بدون دیدگاه  \n",
              "446                                     تال بن شاهار    بدون دیدگاه  \n",
              "447                                      شروین وکیلی    بدون دیدگاه  \n",
              "448                                  نیکولو ماکیاولی       ۲ دیدگاه  \n",
              "449                                    یونس ابراهیمی    بدون دیدگاه  \n",
              "450                                        فیلیپ کان    بدون دیدگاه  \n",
              "451                                    غلامرضا افخمی       ۲ دیدگاه  \n",
              "452                                       سعید نفیسی       ۶ دیدگاه  \n",
              "453                                  ح . کوهی کرمانی       ۴ دیدگاه  \n",
              "454                                  عبدالحسین نوایی       ۲ دیدگاه  \n",
              "455                                      کوروش شهرکی       ۱ دیدگاه  \n",
              "456                                دکتر ایرج نبی پور       ۲ دیدگاه  \n",
              "457                                دکتر ایرج نبی پور    بدون دیدگاه  \n",
              "458                               مهدی خدامیان آرانی       ۲ دیدگاه  \n",
              "459                                    موریس مترلینگ       ۱ دیدگاه  \n",
              "460                                       جورج گاموف       ۲ دیدگاه  \n",
              "461                                       مجله ویستا       ۳ دیدگاه  \n",
              "462                                           نامشخص       ۱ دیدگاه  \n",
              "463                                پرویز ناتل خانلری    بدون دیدگاه  \n",
              "464                                         پیام آور    بدون دیدگاه  \n",
              "465                                       جورج اورول      ۴۹ دیدگاه  \n",
              "466                                  فرورتیش رضوانیه       ۲ دیدگاه  \n",
              "467                                       وحید فرزام       ۱ دیدگاه  \n",
              "468                                       ایلین سگال    بدون دیدگاه  \n",
              "469                                           نامشخص       ۲ دیدگاه  \n",
              "470                                غلامعلی حداد عادل    بدون دیدگاه  \n",
              "471                                    موریس مترلینگ       ۳ دیدگاه  \n",
              "472                                       مجله ویستا       ۱ دیدگاه  \n",
              "473                            سازمان برنامه و بودجه       ۲ دیدگاه  \n",
              "474                            ابراهیم انصاری زنجانی    بدون دیدگاه  \n",
              "475                                    ولفگانگ کناوت    بدون دیدگاه  \n",
              "476                                     مهدی آذریزدی    بدون دیدگاه  \n",
              "477                                      شروین وکیلی    بدون دیدگاه  \n",
              "478                                     ماهنامه شبکه       ۲ دیدگاه  \n",
              "479                سازمان پژوهش و برنامه ریزی آموزشی    بدون دیدگاه  "
            ],
            "text/html": [
              "\n",
              "  <div id=\"df-1a2bbead-b9ee-48c6-bed5-d855d078763c\" class=\"colab-df-container\">\n",
              "    <div>\n",
              "<style scoped>\n",
              "    .dataframe tbody tr th:only-of-type {\n",
              "        vertical-align: middle;\n",
              "    }\n",
              "\n",
              "    .dataframe tbody tr th {\n",
              "        vertical-align: top;\n",
              "    }\n",
              "\n",
              "    .dataframe thead th {\n",
              "        text-align: right;\n",
              "    }\n",
              "</style>\n",
              "<table border=\"1\" class=\"dataframe\">\n",
              "  <thead>\n",
              "    <tr style=\"text-align: right;\">\n",
              "      <th></th>\n",
              "      <th>title</th>\n",
              "      <th>date</th>\n",
              "      <th>content</th>\n",
              "      <th>category</th>\n",
              "      <th>author</th>\n",
              "      <th>comments</th>\n",
              "    </tr>\n",
              "  </thead>\n",
              "  <tbody>\n",
              "    <tr>\n",
              "      <th>440</th>\n",
              "      <td>صوتی هاشمی بدون روتوش</td>\n",
              "      <td>۱۸ بهمن ۱۳۹۶</td>\n",
              "      <td>کتاب صوتی «هاشمی بدون روتوش» مجموعه گفت‌و‌گوها...</td>\n",
              "      <td>دسته‌بندی نشده</td>\n",
              "      <td>صادق زیباکلام، فرشته‌السادات اتفاق‌فر</td>\n",
              "      <td>۱ دیدگاه</td>\n",
              "    </tr>\n",
              "    <tr>\n",
              "      <th>441</th>\n",
              "      <td>تاریخ زندگی اقتصادی روستاییان و طبقات اجتماعی...</td>\n",
              "      <td>۱۷ بهمن ۱۳۹۶</td>\n",
              "      <td>موضوع این کتاب چنانکه از نام آن برمی آید دربا...</td>\n",
              "      <td>تاریخ ایران</td>\n",
              "      <td>غلامرضا انصافپور</td>\n",
              "      <td>۱ دیدگاه</td>\n",
              "    </tr>\n",
              "    <tr>\n",
              "      <th>442</th>\n",
              "      <td>کاهش وزن سریع با ۳۰ تکنیک طلایی</td>\n",
              "      <td>۱۵ بهمن ۱۳۹۶</td>\n",
              "      <td>با کتاب کاهش وزن سریع با ۳۰ تکنیک طلایی نوشته...</td>\n",
              "      <td>پزشکی و سلامت</td>\n",
              "      <td>ابراهیم رجب زاده</td>\n",
              "      <td>۲ دیدگاه</td>\n",
              "    </tr>\n",
              "    <tr>\n",
              "      <th>443</th>\n",
              "      <td>صوتی روانشناسی زنان</td>\n",
              "      <td>۱۵ بهمن ۱۳۹۶</td>\n",
              "      <td>کتاب صوتی «روانشناسی زنان» (Feminine Psycholog...</td>\n",
              "      <td>روانشناسی</td>\n",
              "      <td>کارن هورنای</td>\n",
              "      <td>بدون دیدگاه</td>\n",
              "    </tr>\n",
              "    <tr>\n",
              "      <th>444</th>\n",
              "      <td>ایران در عهد باستان</td>\n",
              "      <td>۱۳ بهمن ۱۳۹۶</td>\n",
              "      <td>ایران در عهد باستان: در تاریخ اقوام و پادشاها...</td>\n",
              "      <td>تاریخ ایران</td>\n",
              "      <td>محمدجواد مشکور</td>\n",
              "      <td>بدون دیدگاه</td>\n",
              "    </tr>\n",
              "    <tr>\n",
              "      <th>445</th>\n",
              "      <td>صوتی ناکامی چپ در ایران : شورشیان آرمانخواه</td>\n",
              "      <td>۱۲ بهمن ۱۳۹۶</td>\n",
              "      <td>کتاب صوتی «ناکامی چپ در ایران : شورشیان آرمان...</td>\n",
              "      <td>دسته‌بندی نشده</td>\n",
              "      <td>مازیار بهروز</td>\n",
              "      <td>بدون دیدگاه</td>\n",
              "    </tr>\n",
              "    <tr>\n",
              "      <th>446</th>\n",
              "      <td>آن زندگی را انتخاب کنید که می خواهید</td>\n",
              "      <td>۱۰ بهمن ۱۳۹۶</td>\n",
              "      <td>اواسط ژانویه بود. در حیاط دانشگاه هاروارد به ...</td>\n",
              "      <td>روانشناسی</td>\n",
              "      <td>تال بن شاهار</td>\n",
              "      <td>بدون دیدگاه</td>\n",
              "    </tr>\n",
              "    <tr>\n",
              "      <th>447</th>\n",
              "      <td>درباره‌ی زمان</td>\n",
              "      <td>۹ بهمن ۱۳۹۶</td>\n",
              "      <td>مفهوم زمان چندان آشنا و نزدیک است، که نامفهوم...</td>\n",
              "      <td>فلسفه</td>\n",
              "      <td>شروین وکیلی</td>\n",
              "      <td>بدون دیدگاه</td>\n",
              "    </tr>\n",
              "    <tr>\n",
              "      <th>448</th>\n",
              "      <td>صوتی شهریار</td>\n",
              "      <td>۸ بهمن ۱۳۹۶</td>\n",
              "      <td>کتاب صوتی «شهریار» اثر نیکولو ماکیاولی (۱۵۲۷-۱...</td>\n",
              "      <td>دسته‌بندی نشده</td>\n",
              "      <td>نیکولو ماکیاولی</td>\n",
              "      <td>۲ دیدگاه</td>\n",
              "    </tr>\n",
              "    <tr>\n",
              "      <th>449</th>\n",
              "      <td>PHP به زبان ساده</td>\n",
              "      <td>۸ بهمن ۱۳۹۶</td>\n",
              "      <td>در این کتاب سعی شده است که مطالب به زبان و کده...</td>\n",
              "      <td>برنامه نویسی</td>\n",
              "      <td>یونس ابراهیمی</td>\n",
              "      <td>بدون دیدگاه</td>\n",
              "    </tr>\n",
              "    <tr>\n",
              "      <th>450</th>\n",
              "      <td>دانشمندان بزرگ</td>\n",
              "      <td>۶ بهمن ۱۳۹۶</td>\n",
              "      <td>کتاب مشتمل بر شرح حال علمایی ست که تحقیقات و آ...</td>\n",
              "      <td>زندگینامه</td>\n",
              "      <td>فیلیپ کان</td>\n",
              "      <td>بدون دیدگاه</td>\n",
              "    </tr>\n",
              "    <tr>\n",
              "      <th>451</th>\n",
              "      <td>زندگی و زمانه شاه</td>\n",
              "      <td>۵ بهمن ۱۳۹۶</td>\n",
              "      <td>«زندگی و زمانه شاه» دی ماه سال ۱۳۸۷ روانه بازا...</td>\n",
              "      <td>تاریخ ایران</td>\n",
              "      <td>غلامرضا افخمی</td>\n",
              "      <td>۲ دیدگاه</td>\n",
              "    </tr>\n",
              "    <tr>\n",
              "      <th>452</th>\n",
              "      <td>بابک خرمدین، دلاور آذربایجان</td>\n",
              "      <td>۴ بهمن ۱۳۹۶</td>\n",
              "      <td>یکی از بزرگترین جنبش هایی که برای کوتاه کردن ...</td>\n",
              "      <td>تاریخ ایران</td>\n",
              "      <td>سعید نفیسی</td>\n",
              "      <td>۶ دیدگاه</td>\n",
              "    </tr>\n",
              "    <tr>\n",
              "      <th>453</th>\n",
              "      <td>تاریخ تریاک و تریاکی در ایران</td>\n",
              "      <td>۱ بهمن ۱۳۹۶</td>\n",
              "      <td>تریاک از نخستین داروهایی است که بشر شناخته اس...</td>\n",
              "      <td>تاریخ ایران</td>\n",
              "      <td>ح . کوهی کرمانی</td>\n",
              "      <td>۴ دیدگاه</td>\n",
              "    </tr>\n",
              "    <tr>\n",
              "      <th>454</th>\n",
              "      <td>کریمخان زند</td>\n",
              "      <td>۱ بهمن ۱۳۹۶</td>\n",
              "      <td>کتاب شرح زندگی کریمخان زند معروف به وکیل الرع...</td>\n",
              "      <td>تاریخ ایران</td>\n",
              "      <td>عبدالحسین نوایی</td>\n",
              "      <td>۲ دیدگاه</td>\n",
              "    </tr>\n",
              "    <tr>\n",
              "      <th>455</th>\n",
              "      <td>کتیبه‌ های تخت جمشید از نگاهی دیگر‎</td>\n",
              "      <td>۲۹ دی ۱۳۹۶</td>\n",
              "      <td>تخت جمشید (پارسه) یکی از شاهکار های هنر و تمد...</td>\n",
              "      <td>تاریخ ایران</td>\n",
              "      <td>کوروش شهرکی</td>\n",
              "      <td>۱ دیدگاه</td>\n",
              "    </tr>\n",
              "    <tr>\n",
              "      <th>456</th>\n",
              "      <td>پزشکی آینده</td>\n",
              "      <td>۲۵ دی ۱۳۹۶</td>\n",
              "      <td>آینده پژوهان بر این باورند که پزشکی به آن گون...</td>\n",
              "      <td>پزشکی و سلامت</td>\n",
              "      <td>دکتر ایرج نبی پور</td>\n",
              "      <td>۲ دیدگاه</td>\n",
              "    </tr>\n",
              "    <tr>\n",
              "      <th>457</th>\n",
              "      <td>جانوران زهرآگین خلیج فارس</td>\n",
              "      <td>۲۵ دی ۱۳۹۶</td>\n",
              "      <td>دریا گستره‌ای بس زیبا، فریبنده و شگفت انگیز ا...</td>\n",
              "      <td>حیوانات</td>\n",
              "      <td>دکتر ایرج نبی پور</td>\n",
              "      <td>بدون دیدگاه</td>\n",
              "    </tr>\n",
              "    <tr>\n",
              "      <th>458</th>\n",
              "      <td>همسر دوست داشتنی</td>\n",
              "      <td>۲۳ دی ۱۳۹۶</td>\n",
              "      <td>کتاب همسر دوست داشتنی نوشته مهدی خدامیان آران...</td>\n",
              "      <td>خانه و خانواده</td>\n",
              "      <td>مهدی خدامیان آرانی</td>\n",
              "      <td>۲ دیدگاه</td>\n",
              "    </tr>\n",
              "    <tr>\n",
              "      <th>459</th>\n",
              "      <td>فرشتگان بزرگ</td>\n",
              "      <td>۲۲ دی ۱۳۹۶</td>\n",
              "      <td>مترلینک در سال ۱۸۶۲ در شهر گنت در قسمت فلاندر ...</td>\n",
              "      <td>فلسفه</td>\n",
              "      <td>موریس مترلینگ</td>\n",
              "      <td>۱ دیدگاه</td>\n",
              "    </tr>\n",
              "    <tr>\n",
              "      <th>460</th>\n",
              "      <td>یک، دو، سه، بینهایت</td>\n",
              "      <td>۱۹ دی ۱۳۹۶</td>\n",
              "      <td>از اتم ها و ستارگان و ابرها، از انتروپی و ژن ه...</td>\n",
              "      <td>علوم مهندسی</td>\n",
              "      <td>جورج گاموف</td>\n",
              "      <td>۲ دیدگاه</td>\n",
              "    </tr>\n",
              "    <tr>\n",
              "      <th>461</th>\n",
              "      <td>جاذبه های گردشگری در ایران و جهان</td>\n",
              "      <td>۱۸ دی ۱۳۹۶</td>\n",
              "      <td>۱۰ آرامگاه تماشایی جهان – ۴نکته مهم در رانندگ...</td>\n",
              "      <td>ایران</td>\n",
              "      <td>مجله ویستا</td>\n",
              "      <td>۳ دیدگاه</td>\n",
              "    </tr>\n",
              "    <tr>\n",
              "      <th>462</th>\n",
              "      <td>مروری بر تاریخ آمریکا</td>\n",
              "      <td>۱۶ دی ۱۳۹۶</td>\n",
              "      <td>تاریخ آمریکا بعنوان یک کشور به کمابیش دویست س...</td>\n",
              "      <td>تاریخ جهان</td>\n",
              "      <td>نامشخص</td>\n",
              "      <td>۱ دیدگاه</td>\n",
              "    </tr>\n",
              "    <tr>\n",
              "      <th>463</th>\n",
              "      <td>زبان شناسی و زبان فارسی</td>\n",
              "      <td>۱۴ دی ۱۳۹۶</td>\n",
              "      <td>دستور زبان فارسی خانلری اولین بار در سال ۱۳۴۳...</td>\n",
              "      <td>آموزش زبان</td>\n",
              "      <td>پرویز ناتل خانلری</td>\n",
              "      <td>بدون دیدگاه</td>\n",
              "    </tr>\n",
              "    <tr>\n",
              "      <th>464</th>\n",
              "      <td>دانستنی های فیلم سازی</td>\n",
              "      <td>۱۲ دی ۱۳۹۶</td>\n",
              "      <td>فیلم‌ برداری مهم ‌ترین مرحله تولید فیلم است. ...</td>\n",
              "      <td>سینما</td>\n",
              "      <td>پیام آور</td>\n",
              "      <td>بدون دیدگاه</td>\n",
              "    </tr>\n",
              "    <tr>\n",
              "      <th>465</th>\n",
              "      <td>قلعه حیوانات</td>\n",
              "      <td>۱۱ دی ۱۳۹۶</td>\n",
              "      <td>مزرعهٔ حیوانات ( Animal Farm) که در ایران به ...</td>\n",
              "      <td>حیوانات</td>\n",
              "      <td>جورج اورول</td>\n",
              "      <td>۴۹ دیدگاه</td>\n",
              "    </tr>\n",
              "    <tr>\n",
              "      <th>466</th>\n",
              "      <td>دومینوی تهران فرو ریخت</td>\n",
              "      <td>۱۱ دی ۱۳۹۶</td>\n",
              "      <td>کتاب الکترونیکی «دومینوی تهران فرو ریخت»، یک ...</td>\n",
              "      <td>داستان و رمان</td>\n",
              "      <td>فرورتیش رضوانیه</td>\n",
              "      <td>۲ دیدگاه</td>\n",
              "    </tr>\n",
              "    <tr>\n",
              "      <th>467</th>\n",
              "      <td>آموزش برنامه نویسی در اکسل</td>\n",
              "      <td>۹ دی ۱۳۹۶</td>\n",
              "      <td>نسخه‌های ویندوزی نرم‌افزار اکسل از برنامه‌نویس...</td>\n",
              "      <td>آفیس</td>\n",
              "      <td>وحید فرزام</td>\n",
              "      <td>۱ دیدگاه</td>\n",
              "    </tr>\n",
              "    <tr>\n",
              "      <th>468</th>\n",
              "      <td>چگونه انسان غول شد</td>\n",
              "      <td>۷ دی ۱۳۹۶</td>\n",
              "      <td>انسان ها در حدوذ ۶۰۰۰ سال پیش که مردم بیابان گ...</td>\n",
              "      <td>علم و دانش</td>\n",
              "      <td>ایلین سگال</td>\n",
              "      <td>بدون دیدگاه</td>\n",
              "    </tr>\n",
              "    <tr>\n",
              "      <th>469</th>\n",
              "      <td>فارسی دوم دبستان سال ۱۳۶۰</td>\n",
              "      <td>۵ دی ۱۳۹۶</td>\n",
              "      <td>هیچ لذتی برای انسان در هنگام پیری یادآواری کو...</td>\n",
              "      <td>درسی و دانشگاهی</td>\n",
              "      <td>نامشخص</td>\n",
              "      <td>۲ دیدگاه</td>\n",
              "    </tr>\n",
              "    <tr>\n",
              "      <th>470</th>\n",
              "      <td>تعلیمات اجتماعی سوم ابتدایی سال ۱۳۶۲</td>\n",
              "      <td>۳ دی ۱۳۹۶</td>\n",
              "      <td>کودکی از پدیده‌هایی است که می‌تواند تا آخر عم...</td>\n",
              "      <td>درسی و دانشگاهی</td>\n",
              "      <td>غلامعلی حداد عادل</td>\n",
              "      <td>بدون دیدگاه</td>\n",
              "    </tr>\n",
              "    <tr>\n",
              "      <th>471</th>\n",
              "      <td>دنیای پس از مرگ</td>\n",
              "      <td>۲ دی ۱۳۹۶</td>\n",
              "      <td>موریس مترلینگ در کتاب «دنیای پس از مرگ» به مس...</td>\n",
              "      <td>علوم ماورا طبیعی</td>\n",
              "      <td>موریس مترلینگ</td>\n",
              "      <td>۳ دیدگاه</td>\n",
              "    </tr>\n",
              "    <tr>\n",
              "      <th>472</th>\n",
              "      <td>ویتامین ها و مواد معدنی</td>\n",
              "      <td>۲۹ آذر ۱۳۹۶</td>\n",
              "      <td>• « ویتامین A » • «روی» عنصری حیاتی • ” ویتام...</td>\n",
              "      <td>پزشکی و سلامت</td>\n",
              "      <td>مجله ویستا</td>\n",
              "      <td>۱ دیدگاه</td>\n",
              "    </tr>\n",
              "    <tr>\n",
              "      <th>473</th>\n",
              "      <td>لایحه بودجه ۹۷</td>\n",
              "      <td>۲۶ آذر ۱۳۹۶</td>\n",
              "      <td>بودجهٔ کل کشور در ایران برنامهٔ مالی دولت این...</td>\n",
              "      <td>اقتصاد</td>\n",
              "      <td>سازمان برنامه و بودجه</td>\n",
              "      <td>۲ دیدگاه</td>\n",
              "    </tr>\n",
              "    <tr>\n",
              "      <th>474</th>\n",
              "      <td>اصول تشیع</td>\n",
              "      <td>۲۵ آذر ۱۳۹۶</td>\n",
              "      <td>اصول تشیع بررسی عقاید مذهب تشیع و جواب از شبها...</td>\n",
              "      <td>دینی و مذهبی</td>\n",
              "      <td>ابراهیم انصاری زنجانی</td>\n",
              "      <td>بدون دیدگاه</td>\n",
              "    </tr>\n",
              "    <tr>\n",
              "      <th>475</th>\n",
              "      <td>آرمان شهریاری ایران باستان</td>\n",
              "      <td>۲۲ آذر ۱۳۹۶</td>\n",
              "      <td>هرکس به تاریخ شاهنشاهی ایران باستان آگاه باشد ...</td>\n",
              "      <td>تاریخ ایران</td>\n",
              "      <td>ولفگانگ کناوت</td>\n",
              "      <td>بدون دیدگاه</td>\n",
              "    </tr>\n",
              "    <tr>\n",
              "      <th>476</th>\n",
              "      <td>لبخند</td>\n",
              "      <td>۲۱ آذر ۱۳۹۶</td>\n",
              "      <td>مهدی آذریزدی (آذر خرمشاهی)، نویسنده و بازنویس ...</td>\n",
              "      <td>داستان و رمان</td>\n",
              "      <td>مهدی آذریزدی</td>\n",
              "      <td>بدون دیدگاه</td>\n",
              "    </tr>\n",
              "    <tr>\n",
              "      <th>477</th>\n",
              "      <td>زندگاهان</td>\n",
              "      <td>۲۱ آذر ۱۳۹۶</td>\n",
              "      <td>کتاب زندگاهان اثر شروین وکیلی، جلد نخست از مج...</td>\n",
              "      <td>فلسفه</td>\n",
              "      <td>شروین وکیلی</td>\n",
              "      <td>بدون دیدگاه</td>\n",
              "    </tr>\n",
              "    <tr>\n",
              "      <th>478</th>\n",
              "      <td>همه ‌چیز درباره بیت‌کوین</td>\n",
              "      <td>۱۸ آذر ۱۳۹۶</td>\n",
              "      <td>شاید جالب‌ترین، عجیب‌ترین و کمی هم حسرت‌ بران...</td>\n",
              "      <td>اقتصاد</td>\n",
              "      <td>ماهنامه شبکه</td>\n",
              "      <td>۲ دیدگاه</td>\n",
              "    </tr>\n",
              "    <tr>\n",
              "      <th>479</th>\n",
              "      <td>علوم تکمیلی</td>\n",
              "      <td>۱۷ آذر ۱۳۹۶</td>\n",
              "      <td>علوم تجربی بخشی از دانش امروزی است که حاصل مط...</td>\n",
              "      <td>علم و دانش</td>\n",
              "      <td>سازمان پژوهش و برنامه ریزی آموزشی</td>\n",
              "      <td>بدون دیدگاه</td>\n",
              "    </tr>\n",
              "  </tbody>\n",
              "</table>\n",
              "</div>\n",
              "    <div class=\"colab-df-buttons\">\n",
              "\n",
              "  <div class=\"colab-df-container\">\n",
              "    <button class=\"colab-df-convert\" onclick=\"convertToInteractive('df-1a2bbead-b9ee-48c6-bed5-d855d078763c')\"\n",
              "            title=\"Convert this dataframe to an interactive table.\"\n",
              "            style=\"display:none;\">\n",
              "\n",
              "  <svg xmlns=\"http://www.w3.org/2000/svg\" height=\"24px\" viewBox=\"0 -960 960 960\">\n",
              "    <path d=\"M120-120v-720h720v720H120Zm60-500h600v-160H180v160Zm220 220h160v-160H400v160Zm0 220h160v-160H400v160ZM180-400h160v-160H180v160Zm440 0h160v-160H620v160ZM180-180h160v-160H180v160Zm440 0h160v-160H620v160Z\"/>\n",
              "  </svg>\n",
              "    </button>\n",
              "\n",
              "  <style>\n",
              "    .colab-df-container {\n",
              "      display:flex;\n",
              "      gap: 12px;\n",
              "    }\n",
              "\n",
              "    .colab-df-convert {\n",
              "      background-color: #E8F0FE;\n",
              "      border: none;\n",
              "      border-radius: 50%;\n",
              "      cursor: pointer;\n",
              "      display: none;\n",
              "      fill: #1967D2;\n",
              "      height: 32px;\n",
              "      padding: 0 0 0 0;\n",
              "      width: 32px;\n",
              "    }\n",
              "\n",
              "    .colab-df-convert:hover {\n",
              "      background-color: #E2EBFA;\n",
              "      box-shadow: 0px 1px 2px rgba(60, 64, 67, 0.3), 0px 1px 3px 1px rgba(60, 64, 67, 0.15);\n",
              "      fill: #174EA6;\n",
              "    }\n",
              "\n",
              "    .colab-df-buttons div {\n",
              "      margin-bottom: 4px;\n",
              "    }\n",
              "\n",
              "    [theme=dark] .colab-df-convert {\n",
              "      background-color: #3B4455;\n",
              "      fill: #D2E3FC;\n",
              "    }\n",
              "\n",
              "    [theme=dark] .colab-df-convert:hover {\n",
              "      background-color: #434B5C;\n",
              "      box-shadow: 0px 1px 3px 1px rgba(0, 0, 0, 0.15);\n",
              "      filter: drop-shadow(0px 1px 2px rgba(0, 0, 0, 0.3));\n",
              "      fill: #FFFFFF;\n",
              "    }\n",
              "  </style>\n",
              "\n",
              "    <script>\n",
              "      const buttonEl =\n",
              "        document.querySelector('#df-1a2bbead-b9ee-48c6-bed5-d855d078763c button.colab-df-convert');\n",
              "      buttonEl.style.display =\n",
              "        google.colab.kernel.accessAllowed ? 'block' : 'none';\n",
              "\n",
              "      async function convertToInteractive(key) {\n",
              "        const element = document.querySelector('#df-1a2bbead-b9ee-48c6-bed5-d855d078763c');\n",
              "        const dataTable =\n",
              "          await google.colab.kernel.invokeFunction('convertToInteractive',\n",
              "                                                    [key], {});\n",
              "        if (!dataTable) return;\n",
              "\n",
              "        const docLinkHtml = 'Like what you see? Visit the ' +\n",
              "          '<a target=\"_blank\" href=https://colab.research.google.com/notebooks/data_table.ipynb>data table notebook</a>'\n",
              "          + ' to learn more about interactive tables.';\n",
              "        element.innerHTML = '';\n",
              "        dataTable['output_type'] = 'display_data';\n",
              "        await google.colab.output.renderOutput(dataTable, element);\n",
              "        const docLink = document.createElement('div');\n",
              "        docLink.innerHTML = docLinkHtml;\n",
              "        element.appendChild(docLink);\n",
              "      }\n",
              "    </script>\n",
              "  </div>\n",
              "\n",
              "\n",
              "<div id=\"df-ef4addc5-6450-4750-a626-afb7dae29ded\">\n",
              "  <button class=\"colab-df-quickchart\" onclick=\"quickchart('df-ef4addc5-6450-4750-a626-afb7dae29ded')\"\n",
              "            title=\"Suggest charts\"\n",
              "            style=\"display:none;\">\n",
              "\n",
              "<svg xmlns=\"http://www.w3.org/2000/svg\" height=\"24px\"viewBox=\"0 0 24 24\"\n",
              "     width=\"24px\">\n",
              "    <g>\n",
              "        <path d=\"M19 3H5c-1.1 0-2 .9-2 2v14c0 1.1.9 2 2 2h14c1.1 0 2-.9 2-2V5c0-1.1-.9-2-2-2zM9 17H7v-7h2v7zm4 0h-2V7h2v10zm4 0h-2v-4h2v4z\"/>\n",
              "    </g>\n",
              "</svg>\n",
              "  </button>\n",
              "\n",
              "<style>\n",
              "  .colab-df-quickchart {\n",
              "      --bg-color: #E8F0FE;\n",
              "      --fill-color: #1967D2;\n",
              "      --hover-bg-color: #E2EBFA;\n",
              "      --hover-fill-color: #174EA6;\n",
              "      --disabled-fill-color: #AAA;\n",
              "      --disabled-bg-color: #DDD;\n",
              "  }\n",
              "\n",
              "  [theme=dark] .colab-df-quickchart {\n",
              "      --bg-color: #3B4455;\n",
              "      --fill-color: #D2E3FC;\n",
              "      --hover-bg-color: #434B5C;\n",
              "      --hover-fill-color: #FFFFFF;\n",
              "      --disabled-bg-color: #3B4455;\n",
              "      --disabled-fill-color: #666;\n",
              "  }\n",
              "\n",
              "  .colab-df-quickchart {\n",
              "    background-color: var(--bg-color);\n",
              "    border: none;\n",
              "    border-radius: 50%;\n",
              "    cursor: pointer;\n",
              "    display: none;\n",
              "    fill: var(--fill-color);\n",
              "    height: 32px;\n",
              "    padding: 0;\n",
              "    width: 32px;\n",
              "  }\n",
              "\n",
              "  .colab-df-quickchart:hover {\n",
              "    background-color: var(--hover-bg-color);\n",
              "    box-shadow: 0 1px 2px rgba(60, 64, 67, 0.3), 0 1px 3px 1px rgba(60, 64, 67, 0.15);\n",
              "    fill: var(--button-hover-fill-color);\n",
              "  }\n",
              "\n",
              "  .colab-df-quickchart-complete:disabled,\n",
              "  .colab-df-quickchart-complete:disabled:hover {\n",
              "    background-color: var(--disabled-bg-color);\n",
              "    fill: var(--disabled-fill-color);\n",
              "    box-shadow: none;\n",
              "  }\n",
              "\n",
              "  .colab-df-spinner {\n",
              "    border: 2px solid var(--fill-color);\n",
              "    border-color: transparent;\n",
              "    border-bottom-color: var(--fill-color);\n",
              "    animation:\n",
              "      spin 1s steps(1) infinite;\n",
              "  }\n",
              "\n",
              "  @keyframes spin {\n",
              "    0% {\n",
              "      border-color: transparent;\n",
              "      border-bottom-color: var(--fill-color);\n",
              "      border-left-color: var(--fill-color);\n",
              "    }\n",
              "    20% {\n",
              "      border-color: transparent;\n",
              "      border-left-color: var(--fill-color);\n",
              "      border-top-color: var(--fill-color);\n",
              "    }\n",
              "    30% {\n",
              "      border-color: transparent;\n",
              "      border-left-color: var(--fill-color);\n",
              "      border-top-color: var(--fill-color);\n",
              "      border-right-color: var(--fill-color);\n",
              "    }\n",
              "    40% {\n",
              "      border-color: transparent;\n",
              "      border-right-color: var(--fill-color);\n",
              "      border-top-color: var(--fill-color);\n",
              "    }\n",
              "    60% {\n",
              "      border-color: transparent;\n",
              "      border-right-color: var(--fill-color);\n",
              "    }\n",
              "    80% {\n",
              "      border-color: transparent;\n",
              "      border-right-color: var(--fill-color);\n",
              "      border-bottom-color: var(--fill-color);\n",
              "    }\n",
              "    90% {\n",
              "      border-color: transparent;\n",
              "      border-bottom-color: var(--fill-color);\n",
              "    }\n",
              "  }\n",
              "</style>\n",
              "\n",
              "  <script>\n",
              "    async function quickchart(key) {\n",
              "      const quickchartButtonEl =\n",
              "        document.querySelector('#' + key + ' button');\n",
              "      quickchartButtonEl.disabled = true;  // To prevent multiple clicks.\n",
              "      quickchartButtonEl.classList.add('colab-df-spinner');\n",
              "      try {\n",
              "        const charts = await google.colab.kernel.invokeFunction(\n",
              "            'suggestCharts', [key], {});\n",
              "      } catch (error) {\n",
              "        console.error('Error during call to suggestCharts:', error);\n",
              "      }\n",
              "      quickchartButtonEl.classList.remove('colab-df-spinner');\n",
              "      quickchartButtonEl.classList.add('colab-df-quickchart-complete');\n",
              "    }\n",
              "    (() => {\n",
              "      let quickchartButtonEl =\n",
              "        document.querySelector('#df-ef4addc5-6450-4750-a626-afb7dae29ded button');\n",
              "      quickchartButtonEl.style.display =\n",
              "        google.colab.kernel.accessAllowed ? 'block' : 'none';\n",
              "    })();\n",
              "  </script>\n",
              "</div>\n",
              "    </div>\n",
              "  </div>\n"
            ]
          },
          "metadata": {},
          "execution_count": 31
        }
      ]
    },
    {
      "cell_type": "markdown",
      "source": [
        "**import essential libraries**"
      ],
      "metadata": {
        "id": "d9phrY6Pr4D0"
      }
    },
    {
      "cell_type": "code",
      "source": [
        "from hazm import word_tokenize\n",
        "from hazm import Normalizer\n",
        "from hazm import Stemmer\n",
        "from hazm import stopwords_list\n",
        "import re"
      ],
      "metadata": {
        "id": "RJtL5TZOr4D3"
      },
      "execution_count": 32,
      "outputs": []
    },
    {
      "cell_type": "markdown",
      "source": [
        "first we look for null values in english dataset"
      ],
      "metadata": {
        "id": "hSvdPXfSr4D3"
      }
    },
    {
      "cell_type": "code",
      "source": [
        "print(farsi_df.isnull().sum())"
      ],
      "metadata": {
        "colab": {
          "base_uri": "https://localhost:8080/"
        },
        "outputId": "6e7ae733-054d-4eb7-9ffc-a16396103214",
        "id": "aZfRMCSjr4D4"
      },
      "execution_count": 33,
      "outputs": [
        {
          "output_type": "stream",
          "name": "stdout",
          "text": [
            "title         0\n",
            "date          0\n",
            "content     383\n",
            "category      0\n",
            "author        0\n",
            "comments      0\n",
            "dtype: int64\n"
          ]
        }
      ]
    },
    {
      "cell_type": "markdown",
      "source": [
        "looks like 383 columns of `content` is missing. There are 2 options: we can delete the rows or just leave them blank. The first option is not efficeint since we are removing so much information. In next steps, we will us titles instead of content."
      ],
      "metadata": {
        "id": "rz4LyZADsPym"
      }
    },
    {
      "cell_type": "markdown",
      "source": [
        "**remove ponctuations**"
      ],
      "metadata": {
        "id": "uvYSX5yWztbW"
      }
    },
    {
      "cell_type": "code",
      "source": [
        "def remove_punctuation(text):\n",
        "    if pd.notna(text):\n",
        "        return re.sub(r'[^\\w\\s]|[.،؛]', '', text)\n",
        "    else:\n",
        "        return text\n",
        "\n",
        "farsi_df['title'] = farsi_df['title'].apply(remove_punctuation)\n",
        "farsi_df['content'] = farsi_df['content'].apply(remove_punctuation)\n",
        "farsi_df['category'] = farsi_df['category'].apply(remove_punctuation)\n",
        "farsi_df['author'] = farsi_df['author'].apply(remove_punctuation)\n"
      ],
      "metadata": {
        "id": "klRjo8anzhcN"
      },
      "execution_count": 34,
      "outputs": []
    },
    {
      "cell_type": "code",
      "source": [
        "farsi_df['all_info'] = (\n",
        "    farsi_df['title'].fillna('') +\n",
        "    ' ' +\n",
        "    farsi_df['content'].fillna('') +\n",
        "    ' ' +\n",
        "    farsi_df['category'].fillna('') +\n",
        "    ' ' +\n",
        "    farsi_df['author'].fillna('')\n",
        ")"
      ],
      "metadata": {
        "id": "c-dO9pxls3-J"
      },
      "execution_count": 35,
      "outputs": []
    },
    {
      "cell_type": "code",
      "source": [
        "farsi_df.loc[0, 'all_info']"
      ],
      "metadata": {
        "colab": {
          "base_uri": "https://localhost:8080/",
          "height": 87
        },
        "id": "eM0MTOClkPez",
        "outputId": "c9d66c9c-937c-4a1b-f817-0e2a68139015"
      },
      "execution_count": 36,
      "outputs": [
        {
          "output_type": "execute_result",
          "data": {
            "text/plain": [
              "' بهترین درسهای زندگی  تی دی جیکس یک کشیش نویسنده سخنران آمریکایی است سمینار های تی دی جیکس اغلب انگیزشی و مذهبی است به همین دلیل او در ایران به سخنران انگیزشی سیاه پوست لقب گرفته است در زندگینامه تی دی جیکس شاهد فعالیتهای مختلفی هستیم که هر کدام از آنها خواهان تجربه و تلاش زیادی هستند مواردی که اعلام شد تنها بخشی از فعالیتهای جیکس است او هم اکنون کشیش خانه پاتر است و مخاطبان بسیاری دارد موعظههای\\xa0 و سخنرانیها تی دی جیکس در کلیسا از شبکههای تلویزیونی و رادیویی مختلف پخش میشوند این کتاب گزیده ای از سخنرانی های آقای جیکز  یکی از بهترین سخنران های انگیزشی در دنیا است امید است با مطالعه دقیق و باور عمیق تغییری مثبت در زندگیتان ایجاد شود روانشناسی           سارا رزولت  '"
            ],
            "application/vnd.google.colaboratory.intrinsic+json": {
              "type": "string"
            }
          },
          "metadata": {},
          "execution_count": 36
        }
      ]
    },
    {
      "cell_type": "markdown",
      "source": [
        "**step 1: tokenizing words**\n",
        "\n",
        "then we tokenize the `text` column by words"
      ],
      "metadata": {
        "id": "t2Ks-2wfr4D4"
      }
    },
    {
      "cell_type": "code",
      "source": [
        "farsi_df['tokens'] = farsi_df['all_info'].apply(lambda x: word_tokenize(x))"
      ],
      "metadata": {
        "id": "AUDM54-vr4D4"
      },
      "execution_count": 38,
      "outputs": []
    },
    {
      "cell_type": "code",
      "source": [
        "farsi_df.loc[0, 'tokens']"
      ],
      "metadata": {
        "id": "sC8qf9PwyYyL",
        "colab": {
          "base_uri": "https://localhost:8080/"
        },
        "outputId": "e99c29af-b483-47f3-fe89-3e4f5046231c"
      },
      "execution_count": 39,
      "outputs": [
        {
          "output_type": "execute_result",
          "data": {
            "text/plain": [
              "['بهترین',\n",
              " 'درسهای',\n",
              " 'زندگی',\n",
              " 'تی',\n",
              " 'دی',\n",
              " 'جیکس',\n",
              " 'یک',\n",
              " 'کشیش',\n",
              " 'نویسنده',\n",
              " 'سخنران',\n",
              " 'آمریکایی',\n",
              " 'است',\n",
              " 'سمینار',\n",
              " 'های',\n",
              " 'تی',\n",
              " 'دی',\n",
              " 'جیکس',\n",
              " 'اغلب',\n",
              " 'انگیزشی',\n",
              " 'و',\n",
              " 'مذهبی',\n",
              " 'است',\n",
              " 'به',\n",
              " 'همین',\n",
              " 'دلیل',\n",
              " 'او',\n",
              " 'در',\n",
              " 'ایران',\n",
              " 'به',\n",
              " 'سخنران',\n",
              " 'انگیزشی',\n",
              " 'سیاه',\n",
              " 'پوست',\n",
              " 'لقب',\n",
              " 'گرفته_است',\n",
              " 'در',\n",
              " 'زندگینامه',\n",
              " 'تی',\n",
              " 'دی',\n",
              " 'جیکس',\n",
              " 'شاهد',\n",
              " 'فعالیتهای',\n",
              " 'مختلفی',\n",
              " 'هستیم',\n",
              " 'که',\n",
              " 'هر',\n",
              " 'کدام',\n",
              " 'از',\n",
              " 'آنها',\n",
              " 'خواهان',\n",
              " 'تجربه',\n",
              " 'و',\n",
              " 'تلاش',\n",
              " 'زیادی',\n",
              " 'هستند',\n",
              " 'مواردی',\n",
              " 'که',\n",
              " 'اعلام',\n",
              " 'شد',\n",
              " 'تنها',\n",
              " 'بخشی',\n",
              " 'از',\n",
              " 'فعالیتهای',\n",
              " 'جیکس',\n",
              " 'است',\n",
              " 'او',\n",
              " 'هم',\n",
              " 'اکنون',\n",
              " 'کشیش',\n",
              " 'خانه',\n",
              " 'پاتر',\n",
              " 'است',\n",
              " 'و',\n",
              " 'مخاطبان',\n",
              " 'بسیاری',\n",
              " 'دارد',\n",
              " 'موعظههای\\xa0',\n",
              " 'و',\n",
              " 'سخنرانیها',\n",
              " 'تی',\n",
              " 'دی',\n",
              " 'جیکس',\n",
              " 'در',\n",
              " 'کلیسا',\n",
              " 'از',\n",
              " 'شبکههای',\n",
              " 'تلویزیونی',\n",
              " 'و',\n",
              " 'رادیویی',\n",
              " 'مختلف',\n",
              " 'پخش',\n",
              " 'میشوند',\n",
              " 'این',\n",
              " 'کتاب',\n",
              " 'گزیده_ای',\n",
              " 'از',\n",
              " 'سخنرانی',\n",
              " 'های',\n",
              " 'آقای',\n",
              " 'جیکز',\n",
              " 'یکی',\n",
              " 'از',\n",
              " 'بهترین',\n",
              " 'سخنران',\n",
              " 'های',\n",
              " 'انگیزشی',\n",
              " 'در',\n",
              " 'دنیا',\n",
              " 'است',\n",
              " 'امید',\n",
              " 'است',\n",
              " 'با',\n",
              " 'مطالعه',\n",
              " 'دقیق',\n",
              " 'و',\n",
              " 'باور',\n",
              " 'عمیق',\n",
              " 'تغییری',\n",
              " 'مثبت',\n",
              " 'در',\n",
              " 'زندگیتان',\n",
              " 'ایجاد',\n",
              " 'شود',\n",
              " 'روانشناسی',\n",
              " 'سارا',\n",
              " 'رزولت']"
            ]
          },
          "metadata": {},
          "execution_count": 39
        }
      ]
    },
    {
      "cell_type": "markdown",
      "source": [
        "**step 2: normalizing tokens**\n",
        "\n",
        "after tokenizing, we normalize the `tokenized_text` column. This includes lowecasing the tokens."
      ],
      "metadata": {
        "id": "htkFfUfe0Qt4"
      }
    },
    {
      "cell_type": "code",
      "source": [
        "normalizer = Normalizer()\n",
        "normalize_tokens = lambda tokens: [normalizer.normalize(token) for token in tokens]\n",
        "farsi_df['normalized_tokens'] = farsi_df['tokens'].apply(normalize_tokens)"
      ],
      "metadata": {
        "id": "HB5Dov4H0Qt7"
      },
      "execution_count": 40,
      "outputs": []
    },
    {
      "cell_type": "code",
      "source": [
        "farsi_df.loc[0, 'normalized_tokens']"
      ],
      "metadata": {
        "id": "OOPT56EBtQcH",
        "colab": {
          "base_uri": "https://localhost:8080/"
        },
        "outputId": "936f1865-6caa-4610-8c9f-24b2362b8a18"
      },
      "execution_count": 41,
      "outputs": [
        {
          "output_type": "execute_result",
          "data": {
            "text/plain": [
              "['بهترین',\n",
              " 'درسهای',\n",
              " 'زندگی',\n",
              " 'تی',\n",
              " 'دی',\n",
              " 'جیکس',\n",
              " 'یک',\n",
              " 'کشیش',\n",
              " 'نویسنده',\n",
              " 'سخنران',\n",
              " 'آمریکایی',\n",
              " 'است',\n",
              " 'سمینار',\n",
              " 'های',\n",
              " 'تی',\n",
              " 'دی',\n",
              " 'جیکس',\n",
              " 'اغلب',\n",
              " 'انگیزشی',\n",
              " 'و',\n",
              " 'مذهبی',\n",
              " 'است',\n",
              " 'به',\n",
              " 'همین',\n",
              " 'دلیل',\n",
              " 'او',\n",
              " 'در',\n",
              " 'ایران',\n",
              " 'به',\n",
              " 'سخنران',\n",
              " 'انگیزشی',\n",
              " 'سیاه',\n",
              " 'پوست',\n",
              " 'لقب',\n",
              " 'گرفته_است',\n",
              " 'در',\n",
              " 'زندگینامه',\n",
              " 'تی',\n",
              " 'دی',\n",
              " 'جیکس',\n",
              " 'شاهد',\n",
              " 'فعالیتهای',\n",
              " 'مختلفی',\n",
              " 'هستیم',\n",
              " 'که',\n",
              " 'هر',\n",
              " 'کدام',\n",
              " 'از',\n",
              " 'آنها',\n",
              " 'خواهان',\n",
              " 'تجربه',\n",
              " 'و',\n",
              " 'تلاش',\n",
              " 'زیادی',\n",
              " 'هستند',\n",
              " 'مواردی',\n",
              " 'که',\n",
              " 'اعلام',\n",
              " 'شد',\n",
              " 'تنها',\n",
              " 'بخشی',\n",
              " 'از',\n",
              " 'فعالیتهای',\n",
              " 'جیکس',\n",
              " 'است',\n",
              " 'او',\n",
              " 'هم',\n",
              " 'اکنون',\n",
              " 'کشیش',\n",
              " 'خانه',\n",
              " 'پاتر',\n",
              " 'است',\n",
              " 'و',\n",
              " 'مخاطبان',\n",
              " 'بسیاری',\n",
              " 'دارد',\n",
              " 'موعظه\\u200cهای',\n",
              " 'و',\n",
              " 'سخنرانیها',\n",
              " 'تی',\n",
              " 'دی',\n",
              " 'جیکس',\n",
              " 'در',\n",
              " 'کلیسا',\n",
              " 'از',\n",
              " 'شبکه\\u200cهای',\n",
              " 'تلویزیونی',\n",
              " 'و',\n",
              " 'رادیویی',\n",
              " 'مختلف',\n",
              " 'پخش',\n",
              " 'می\\u200cشوند',\n",
              " 'این',\n",
              " 'کتاب',\n",
              " 'گزیده_ای',\n",
              " 'از',\n",
              " 'سخنرانی',\n",
              " 'های',\n",
              " 'آقای',\n",
              " 'جیکز',\n",
              " 'یکی',\n",
              " 'از',\n",
              " 'بهترین',\n",
              " 'سخنران',\n",
              " 'های',\n",
              " 'انگیزشی',\n",
              " 'در',\n",
              " 'دنیا',\n",
              " 'است',\n",
              " 'امید',\n",
              " 'است',\n",
              " 'با',\n",
              " 'مطالعه',\n",
              " 'دقیق',\n",
              " 'و',\n",
              " 'باور',\n",
              " 'عمیق',\n",
              " 'تغییری',\n",
              " 'مثبت',\n",
              " 'در',\n",
              " 'زندگیتان',\n",
              " 'ایجاد',\n",
              " 'شود',\n",
              " 'روانشناسی',\n",
              " 'سارا',\n",
              " 'رزولت']"
            ]
          },
          "metadata": {},
          "execution_count": 41
        }
      ]
    },
    {
      "cell_type": "markdown",
      "source": [
        "**step 3: stemming normalized tokens**"
      ],
      "metadata": {
        "id": "UDDuu5K_0Qt8"
      }
    },
    {
      "cell_type": "code",
      "source": [
        "stemmer = Stemmer()\n",
        "farsi_df['stemmed_tokens'] = farsi_df['normalized_tokens'].apply(lambda tokens: [stemmer.stem(token) for token in tokens])"
      ],
      "metadata": {
        "id": "s_IyXgIbujZr"
      },
      "execution_count": 42,
      "outputs": []
    },
    {
      "cell_type": "code",
      "source": [
        "farsi_df.loc[0, 'stemmed_tokens']"
      ],
      "metadata": {
        "colab": {
          "base_uri": "https://localhost:8080/"
        },
        "id": "vDyXiwp7lY3a",
        "outputId": "a01d9cee-a9c8-47ff-fa3f-62917e839d73"
      },
      "execution_count": 43,
      "outputs": [
        {
          "output_type": "execute_result",
          "data": {
            "text/plain": [
              "['به',\n",
              " 'درس',\n",
              " 'زندگ',\n",
              " 'ت',\n",
              " 'د',\n",
              " 'جیکس',\n",
              " 'یک',\n",
              " 'کش',\n",
              " 'نویسنده',\n",
              " 'سخنر',\n",
              " 'آمریکا',\n",
              " 'اس',\n",
              " 'سمینار',\n",
              " '',\n",
              " 'ت',\n",
              " 'د',\n",
              " 'جیکس',\n",
              " 'اغلب',\n",
              " 'انگیزش',\n",
              " 'و',\n",
              " 'مذهب',\n",
              " 'اس',\n",
              " 'به',\n",
              " 'همین',\n",
              " 'دلیل',\n",
              " 'او',\n",
              " 'در',\n",
              " 'ایر',\n",
              " 'به',\n",
              " 'سخنر',\n",
              " 'انگیزش',\n",
              " 'سیاه',\n",
              " 'پوس',\n",
              " 'لقب',\n",
              " 'گرفته_اس',\n",
              " 'در',\n",
              " 'زندگینامه',\n",
              " 'ت',\n",
              " 'د',\n",
              " 'جیکس',\n",
              " 'شاهد',\n",
              " 'فعالیت',\n",
              " 'مختلف',\n",
              " 'هست',\n",
              " 'که',\n",
              " 'هر',\n",
              " 'کدا',\n",
              " 'از',\n",
              " 'آن',\n",
              " 'خواه',\n",
              " 'تجربه',\n",
              " 'و',\n",
              " 'تلا',\n",
              " 'زیاد',\n",
              " 'هستند',\n",
              " 'موارد',\n",
              " 'که',\n",
              " 'اعلا',\n",
              " 'شد',\n",
              " 'تن',\n",
              " 'بخش',\n",
              " 'از',\n",
              " 'فعالیت',\n",
              " 'جیکس',\n",
              " 'اس',\n",
              " 'او',\n",
              " 'ه',\n",
              " 'اکنون',\n",
              " 'کش',\n",
              " 'خانه',\n",
              " 'پا',\n",
              " 'اس',\n",
              " 'و',\n",
              " 'مخاطب',\n",
              " 'بسیار',\n",
              " 'دارد',\n",
              " 'موعظه',\n",
              " 'و',\n",
              " 'سخنرانی',\n",
              " 'ت',\n",
              " 'د',\n",
              " 'جیکس',\n",
              " 'در',\n",
              " 'کلیسا',\n",
              " 'از',\n",
              " 'شبکه',\n",
              " 'تلویزیون',\n",
              " 'و',\n",
              " 'رادیو',\n",
              " 'مختلف',\n",
              " 'پخ',\n",
              " 'می\\u200cشوند',\n",
              " 'این',\n",
              " 'کتاب',\n",
              " 'گزیده_ا',\n",
              " 'از',\n",
              " 'سخنران',\n",
              " '',\n",
              " 'آقا',\n",
              " 'جیکز',\n",
              " 'یک',\n",
              " 'از',\n",
              " 'به',\n",
              " 'سخنر',\n",
              " '',\n",
              " 'انگیزش',\n",
              " 'در',\n",
              " 'دنیا',\n",
              " 'اس',\n",
              " 'امید',\n",
              " 'اس',\n",
              " 'با',\n",
              " 'مطالعه',\n",
              " 'دقیق',\n",
              " 'و',\n",
              " 'باور',\n",
              " 'عمیق',\n",
              " 'تغییر',\n",
              " 'مثب',\n",
              " 'در',\n",
              " 'زندگ',\n",
              " 'ایجاد',\n",
              " 'شود',\n",
              " 'روانشناس',\n",
              " 'سارا',\n",
              " 'رزول']"
            ]
          },
          "metadata": {},
          "execution_count": 43
        }
      ]
    },
    {
      "cell_type": "markdown",
      "source": [
        "**step 4: removing stopwords**"
      ],
      "metadata": {
        "id": "Lbo1DDd40Qt9"
      }
    },
    {
      "cell_type": "code",
      "source": [
        "persian_stopwords = set(stopwords_list())\n",
        "custom_stopwords = ['از', 'به', 'با', 'در', 'برای', 'بر', 'آن', 'او', 'این', 'ها', 'بله', 'آره', 'نه', 'اون', 'که', 'بدون', 'هر', 'شاید', 'باید', 'خیلی']\n",
        "\n",
        "farsi_df['final_tokens'] = farsi_df['stemmed_tokens'].apply(lambda tokens: [token for token in tokens if token not in persian_stopwords])\n",
        "farsi_df['final_tokens'] = farsi_df['final_tokens'].apply(lambda tokens: [token for token in tokens if token not in custom_stopwords])"
      ],
      "metadata": {
        "id": "h7GAj9g70Qt9"
      },
      "execution_count": 44,
      "outputs": []
    },
    {
      "cell_type": "code",
      "source": [
        "farsi_df.loc[0, 'final_tokens']"
      ],
      "metadata": {
        "id": "3sIyszqYyhU7",
        "colab": {
          "base_uri": "https://localhost:8080/"
        },
        "outputId": "3d172271-ef35-458e-87b6-4470e52945f6"
      },
      "execution_count": 45,
      "outputs": [
        {
          "output_type": "execute_result",
          "data": {
            "text/plain": [
              "['درس',\n",
              " 'زندگ',\n",
              " 'ت',\n",
              " 'د',\n",
              " 'جیکس',\n",
              " 'کش',\n",
              " 'نویسنده',\n",
              " 'سخنر',\n",
              " 'آمریکا',\n",
              " 'اس',\n",
              " 'سمینار',\n",
              " '',\n",
              " 'ت',\n",
              " 'د',\n",
              " 'جیکس',\n",
              " 'انگیزش',\n",
              " 'مذهب',\n",
              " 'اس',\n",
              " 'دلیل',\n",
              " 'ایر',\n",
              " 'سخنر',\n",
              " 'انگیزش',\n",
              " 'سیاه',\n",
              " 'پوس',\n",
              " 'لقب',\n",
              " 'گرفته_اس',\n",
              " 'زندگینامه',\n",
              " 'ت',\n",
              " 'د',\n",
              " 'جیکس',\n",
              " 'شاهد',\n",
              " 'فعالیت',\n",
              " 'مختلف',\n",
              " 'هست',\n",
              " 'کدا',\n",
              " 'خواه',\n",
              " 'تجربه',\n",
              " 'تلا',\n",
              " 'موارد',\n",
              " 'اعلا',\n",
              " 'تن',\n",
              " 'فعالیت',\n",
              " 'جیکس',\n",
              " 'اس',\n",
              " 'ه',\n",
              " 'کش',\n",
              " 'خانه',\n",
              " 'پا',\n",
              " 'اس',\n",
              " 'مخاطب',\n",
              " 'موعظه',\n",
              " 'سخنرانی',\n",
              " 'ت',\n",
              " 'د',\n",
              " 'جیکس',\n",
              " 'کلیسا',\n",
              " 'شبکه',\n",
              " 'تلویزیون',\n",
              " 'رادیو',\n",
              " 'مختلف',\n",
              " 'پخ',\n",
              " 'کتاب',\n",
              " 'گزیده_ا',\n",
              " 'سخنران',\n",
              " '',\n",
              " 'آقا',\n",
              " 'جیکز',\n",
              " 'سخنر',\n",
              " '',\n",
              " 'انگیزش',\n",
              " 'دنیا',\n",
              " 'اس',\n",
              " 'امید',\n",
              " 'اس',\n",
              " 'مطالعه',\n",
              " 'دقیق',\n",
              " 'باور',\n",
              " 'عمیق',\n",
              " 'مثب',\n",
              " 'زندگ',\n",
              " 'ایجاد',\n",
              " 'روانشناس',\n",
              " 'سارا',\n",
              " 'رزول']"
            ]
          },
          "metadata": {},
          "execution_count": 45
        }
      ]
    },
    {
      "cell_type": "markdown",
      "source": [
        "removing tokens that have 1 or 0 characters"
      ],
      "metadata": {
        "id": "NFNx73LMsiNI"
      }
    },
    {
      "cell_type": "code",
      "source": [
        "farsi_df['final_tokens'] = farsi_df['final_tokens'].apply(lambda tokens: [token for token in tokens if token and len(token) > 1])"
      ],
      "metadata": {
        "id": "aBdSuF_bsU6F"
      },
      "execution_count": 46,
      "outputs": []
    },
    {
      "cell_type": "code",
      "source": [
        "farsi_df.loc[0, 'final_tokens']"
      ],
      "metadata": {
        "colab": {
          "base_uri": "https://localhost:8080/"
        },
        "id": "DO3SSOIXtdea",
        "outputId": "5b7fe0ff-1bcf-42a4-fb31-23d4bb9deceb"
      },
      "execution_count": 47,
      "outputs": [
        {
          "output_type": "execute_result",
          "data": {
            "text/plain": [
              "['درس',\n",
              " 'زندگ',\n",
              " 'جیکس',\n",
              " 'کش',\n",
              " 'نویسنده',\n",
              " 'سخنر',\n",
              " 'آمریکا',\n",
              " 'اس',\n",
              " 'سمینار',\n",
              " 'جیکس',\n",
              " 'انگیزش',\n",
              " 'مذهب',\n",
              " 'اس',\n",
              " 'دلیل',\n",
              " 'ایر',\n",
              " 'سخنر',\n",
              " 'انگیزش',\n",
              " 'سیاه',\n",
              " 'پوس',\n",
              " 'لقب',\n",
              " 'گرفته_اس',\n",
              " 'زندگینامه',\n",
              " 'جیکس',\n",
              " 'شاهد',\n",
              " 'فعالیت',\n",
              " 'مختلف',\n",
              " 'هست',\n",
              " 'کدا',\n",
              " 'خواه',\n",
              " 'تجربه',\n",
              " 'تلا',\n",
              " 'موارد',\n",
              " 'اعلا',\n",
              " 'تن',\n",
              " 'فعالیت',\n",
              " 'جیکس',\n",
              " 'اس',\n",
              " 'کش',\n",
              " 'خانه',\n",
              " 'پا',\n",
              " 'اس',\n",
              " 'مخاطب',\n",
              " 'موعظه',\n",
              " 'سخنرانی',\n",
              " 'جیکس',\n",
              " 'کلیسا',\n",
              " 'شبکه',\n",
              " 'تلویزیون',\n",
              " 'رادیو',\n",
              " 'مختلف',\n",
              " 'پخ',\n",
              " 'کتاب',\n",
              " 'گزیده_ا',\n",
              " 'سخنران',\n",
              " 'آقا',\n",
              " 'جیکز',\n",
              " 'سخنر',\n",
              " 'انگیزش',\n",
              " 'دنیا',\n",
              " 'اس',\n",
              " 'امید',\n",
              " 'اس',\n",
              " 'مطالعه',\n",
              " 'دقیق',\n",
              " 'باور',\n",
              " 'عمیق',\n",
              " 'مثب',\n",
              " 'زندگ',\n",
              " 'ایجاد',\n",
              " 'روانشناس',\n",
              " 'سارا',\n",
              " 'رزول']"
            ]
          },
          "metadata": {},
          "execution_count": 47
        }
      ]
    },
    {
      "cell_type": "markdown",
      "source": [
        "**building the inverted index**"
      ],
      "metadata": {
        "id": "ZDi4IcBWzzEa"
      }
    },
    {
      "cell_type": "code",
      "source": [
        "import time\n",
        "\n",
        "start = time.time()\n",
        "farsi_inverted_index = build_inverted_index(farsi_df, 'final_tokens')\n",
        "end = time.time()\n",
        "\n",
        "print(\"The total execution time for Farsi: \", end-start)"
      ],
      "metadata": {
        "id": "EwuGllKIzzEb",
        "colab": {
          "base_uri": "https://localhost:8080/"
        },
        "outputId": "8a9e5c56-0af9-4382-e475-17d1bf41b303"
      },
      "execution_count": 48,
      "outputs": [
        {
          "output_type": "stream",
          "name": "stdout",
          "text": [
            "The total execution time for Farsi:  1.9613368511199951\n"
          ]
        }
      ]
    },
    {
      "cell_type": "markdown",
      "source": [
        "**building the term occurence matrix (binary coded)**"
      ],
      "metadata": {
        "id": "n5Tl4EAC16Oj"
      }
    },
    {
      "cell_type": "code",
      "source": [
        "farsi_term_occurrences = build_term_occurences(farsi_inverted_index)"
      ],
      "metadata": {
        "id": "qB1YJQ-z16Ol"
      },
      "execution_count": 49,
      "outputs": []
    },
    {
      "cell_type": "markdown",
      "source": [
        "**boolean IR**"
      ],
      "metadata": {
        "id": "CmVtZC6D16Ol"
      }
    },
    {
      "cell_type": "code",
      "source": [
        "query_processing(farsi_term_occurrences)"
      ],
      "metadata": {
        "colab": {
          "base_uri": "https://localhost:8080/"
        },
        "outputId": "227d3f81-1574-440d-ef4b-658423df92df",
        "id": "a16SD32M16Om"
      },
      "execution_count": 50,
      "outputs": [
        {
          "output_type": "stream",
          "name": "stdout",
          "text": [
            "please enter your query: کتاب+روانشناس+!نمایش\n",
            "These documents are found:  [0, 1, 2, 3, 4, 5, 6, 7, 8, 9, 10, 11, 12, 13, 14, 15, 16, 17, 18, 19, 20, 21, 22, 23, 24, 25, 26, 27, 28, 29, 30, 31, 32, 33, 34, 35, 36, 37, 38, 39, 40, 41, 42, 43, 44, 45, 46, 47, 48, 49, 50, 51, 52, 53, 54, 55, 56, 57, 58, 59, 60, 61, 62, 63, 64, 65, 66, 67, 68, 69, 70, 71, 72, 73, 74, 75, 76, 77, 78, 79, 80, 81, 82, 83, 84, 85, 86, 87, 88, 89, 90, 91, 92, 93, 94, 95, 96, 97, 98, 99, 100, 101, 102, 103, 104, 105, 106, 107, 108, 109, 110, 111, 112, 113, 114, 115, 116, 117, 118, 119, 120, 121, 122, 123, 124, 125, 126, 127, 128, 129, 130, 131, 132, 133, 134, 135, 136, 137, 138, 139, 140, 141, 142, 143, 144, 145, 146, 147, 148, 149, 150, 151, 152, 153, 154, 155, 156, 157, 158, 159, 160, 161, 162, 163, 164, 165, 166, 167, 168, 169, 170, 171, 172, 173, 174, 175, 176, 177, 178, 179, 181, 182, 183, 184, 185, 186, 187, 188, 189, 190, 191, 192, 193, 194, 195, 196, 197, 198, 199, 200, 201, 202, 203, 204, 205, 206, 207, 208, 209, 210, 211, 212, 213, 214, 215, 216, 217, 218, 219, 220, 221, 222, 223, 224, 225, 226, 227, 228, 229, 230, 231, 232, 233, 234, 235, 236, 237, 238, 239, 240, 241, 242, 243, 244, 245, 246, 247, 248, 249, 250, 251, 252, 253, 254, 255, 256, 257, 258, 259, 260, 261, 262, 263, 264, 265, 266, 267, 268, 269, 270, 271, 272, 273, 274, 275, 276, 277, 278, 279, 280, 281, 282, 283, 284, 285, 286, 287, 288, 289, 290, 291, 292, 293, 294, 295, 296, 297, 298, 299, 300, 301, 302, 303, 304, 305, 306, 307, 308, 309, 310, 311, 312, 313, 314, 315, 316, 317, 318, 319, 320, 321, 322, 323, 324, 325, 326, 327, 328, 329, 330, 331, 332, 333, 334, 335, 336, 337, 338, 339, 340, 341, 342, 343, 344, 345, 346, 347, 348, 349, 350, 351, 352, 353, 354, 355, 356, 357, 358, 359, 360, 361, 362, 363, 364, 365, 366, 367, 368, 369, 370, 371, 372, 373, 374, 375, 376, 377, 378, 379, 380, 381, 382, 383, 384, 385, 386, 387, 388, 389, 390, 391, 392, 393, 394, 395, 396, 397, 398, 399, 400, 401, 402, 403, 404, 405, 406, 407, 408, 409, 410, 411, 412, 413, 414, 415, 416, 417, 418, 419, 420, 421, 422, 423, 424, 425, 426, 427, 428, 429, 430, 431, 432, 433, 434, 435, 436, 437, 438, 439, 440, 441, 442, 443, 444, 445, 446, 447, 448, 449, 450, 451, 452, 453, 454, 455, 456, 457, 458, 459, 460, 461, 462, 463, 464, 465, 466, 467, 468, 469, 470, 471, 472, 473, 474, 475, 476, 477, 478, 479, 480, 481, 482, 483, 484, 485, 486, 487, 488, 489, 490, 491, 492, 493, 494, 495, 496, 497, 498, 499, 500, 501, 502, 503, 504, 505, 506, 507, 508, 509, 510, 511, 512, 513, 514, 515, 516, 517, 518, 519, 520, 521, 522, 523, 524, 525, 526, 527, 528, 529, 530, 531, 532, 533, 534, 535, 536, 537, 538, 539, 540, 541, 542, 543, 544, 545, 546, 547, 548, 549, 550, 551, 552, 553, 554, 555, 556, 557, 558, 559, 560, 561, 562, 563, 564, 565, 566, 567, 568, 569, 570, 571, 572, 573, 574, 575, 576, 577, 578, 579, 580, 581, 582, 583, 584, 585, 586, 587, 588, 589, 590, 591, 592, 593, 594, 595, 596, 597, 598, 599, 600, 601, 602, 603, 604, 605, 606, 607, 608, 609, 610, 611, 612, 613, 614, 615, 616, 617, 618, 619, 620, 621, 622, 623, 624, 625, 626, 627, 628, 629, 630, 631, 632, 633, 634, 635, 636, 637, 638, 639, 640, 641, 642, 643, 644, 645, 646, 647, 648, 649, 650, 651, 652, 653, 654, 655, 656, 657, 658, 659, 660, 661, 662, 663, 664, 665, 666, 667, 668, 669, 670, 671, 672, 673, 674, 675, 676, 677, 679, 680, 681, 682, 683, 684, 685, 686, 687, 688, 689, 690, 691, 692, 693, 694, 695, 696, 697, 698, 699, 700, 701, 702, 703, 704, 705, 706, 707, 708, 709, 710, 711, 712, 713, 714, 715, 716, 717, 718, 719, 720, 721, 722, 723, 724, 725, 726, 727, 728, 729, 730, 731, 732, 733, 734, 735, 736, 737, 738, 739, 740, 741, 742, 743, 744, 745, 746, 747, 748, 749, 750, 751, 752, 753, 754, 755, 756, 757, 758, 759, 760, 761, 762, 763, 764, 765, 766, 767, 768, 769, 770, 771, 772, 773, 774, 775, 776, 777, 778, 779, 780, 781, 782, 783, 784, 785, 786, 787, 788, 789, 790, 791, 792, 793, 794, 795, 796, 797, 798, 799, 800, 801, 802, 803, 804, 805, 806, 807, 808, 809, 810, 811, 812, 813, 814, 815, 816, 817, 818, 819, 820, 821, 822, 823, 824, 825, 826, 827, 828, 829, 830, 831, 832, 833, 834, 835, 836, 837, 838, 839, 840, 841, 842, 843, 844, 845, 846, 847, 848, 849, 850, 851, 852, 853, 854, 855, 856, 857, 858, 859, 860, 861, 862, 863, 864, 865, 866, 867, 868, 869, 870, 871, 872, 873, 874, 875, 876, 877, 878, 879, 880, 881, 882, 883, 884, 885, 886, 887, 888, 889, 890, 891, 892, 893, 894, 895, 896, 897, 898, 899, 900, 901, 902, 903, 904, 905, 906, 907, 908, 909, 910, 911, 912, 913, 914, 915, 916, 917, 918, 919, 920, 921, 922, 923, 924, 925, 926, 927, 928, 929, 930, 931, 932, 933, 934, 935, 936, 937, 938, 939, 940, 941, 942, 943, 944, 945, 946, 947, 948, 949, 950, 951, 952, 953, 954, 955, 956, 957, 958, 959, 960, 961, 962, 963, 964, 965, 966, 967, 968, 969, 970, 971, 972, 973, 974, 975, 976, 977, 978, 979, 980, 981, 982, 983, 984, 985, 986, 987, 988, 989, 990, 991, 992, 993, 994, 995, 996, 997, 998, 999]\n"
          ]
        }
      ]
    },
    {
      "cell_type": "code",
      "source": [
        "total_farsi_tokens, total_farsi_documents = count_tokens_and_documents(farsi_df, 'final_tokens')\n",
        "\n",
        "print(f'Total tokens: {total_farsi_tokens}')\n",
        "print(f'Total documents: {total_farsi_documents}')"
      ],
      "metadata": {
        "colab": {
          "base_uri": "https://localhost:8080/"
        },
        "id": "16cKrFNyOgvY",
        "outputId": "e12545eb-a4f2-4a9c-d013-e7b2b08452fa"
      },
      "execution_count": 51,
      "outputs": [
        {
          "output_type": "stream",
          "name": "stdout",
          "text": [
            "Total tokens: 217858\n",
            "Total documents: 2824\n"
          ]
        }
      ]
    },
    {
      "cell_type": "code",
      "source": [
        "save_invertedindex_to_file('Farsi_Inverted_Index', farsi_inverted_index)"
      ],
      "metadata": {
        "colab": {
          "base_uri": "https://localhost:8080/"
        },
        "id": "n4pYrW46QyKq",
        "outputId": "02f51fe4-dacc-4a5a-82a0-34939339e337"
      },
      "execution_count": 52,
      "outputs": [
        {
          "output_type": "stream",
          "name": "stdout",
          "text": [
            "Inverted index saved to file. File size: 731068 bytes\n"
          ]
        }
      ]
    }
  ]
}